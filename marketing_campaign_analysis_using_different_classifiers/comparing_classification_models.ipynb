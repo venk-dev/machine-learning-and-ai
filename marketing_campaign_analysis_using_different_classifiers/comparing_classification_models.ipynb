{
 "cells": [
  {
   "cell_type": "markdown",
   "metadata": {},
   "source": [
    "# Practical Application III: Comparing Classifiers\n",
    "\n",
    "**Overview**: In this practical application, your goal is to compare the performance of the classifiers we encountered in this section, namely K Nearest Neighbor, Logistic Regression, Decision Trees, and Support Vector Machines.  We will utilize a dataset related to marketing bank products over the telephone.  \n",
    "\n"
   ]
  },
  {
   "cell_type": "markdown",
   "metadata": {},
   "source": [
    "### Getting Started\n",
    "\n",
    "Our dataset comes from the UCI Machine Learning repository [link](https://archive.ics.uci.edu/ml/datasets/bank+marketing).  The data is from a Portugese banking institution and is a collection of the results of multiple marketing campaigns.  We will make use of the article accompanying the dataset [here](CRISP-DM-BANK.pdf) for more information on the data and features.\n",
    "\n"
   ]
  },
  {
   "cell_type": "markdown",
   "metadata": {},
   "source": []
  },
  {
   "cell_type": "markdown",
   "metadata": {},
   "source": [
    "### Understand and Read in the Data\n",
    "\n",
    "Use pandas to read in the dataset `bank-additional-full.csv` and assign to a meaningful variable name."
   ]
  },
  {
   "cell_type": "code",
   "execution_count": 1,
   "metadata": {},
   "outputs": [],
   "source": [
    "import pandas as pd\n",
    "import matplotlib.pyplot as plt\n",
    "import seaborn as sns"
   ]
  },
  {
   "cell_type": "code",
   "execution_count": 2,
   "metadata": {},
   "outputs": [],
   "source": [
    "df = pd.read_csv('data/bank-additional-full.csv', sep = ';')"
   ]
  },
  {
   "cell_type": "code",
   "execution_count": 3,
   "metadata": {},
   "outputs": [
    {
     "data": {
      "text/plain": "   age        job  marital    education  default housing loan    contact  \\\n0   56  housemaid  married     basic.4y       no      no   no  telephone   \n1   57   services  married  high.school  unknown      no   no  telephone   \n2   37   services  married  high.school       no     yes   no  telephone   \n3   40     admin.  married     basic.6y       no      no   no  telephone   \n4   56   services  married  high.school       no      no  yes  telephone   \n\n  month day_of_week  ...  campaign  pdays  previous     poutcome emp.var.rate  \\\n0   may         mon  ...         1    999         0  nonexistent          1.1   \n1   may         mon  ...         1    999         0  nonexistent          1.1   \n2   may         mon  ...         1    999         0  nonexistent          1.1   \n3   may         mon  ...         1    999         0  nonexistent          1.1   \n4   may         mon  ...         1    999         0  nonexistent          1.1   \n\n   cons.price.idx  cons.conf.idx  euribor3m  nr.employed   y  \n0          93.994          -36.4      4.857       5191.0  no  \n1          93.994          -36.4      4.857       5191.0  no  \n2          93.994          -36.4      4.857       5191.0  no  \n3          93.994          -36.4      4.857       5191.0  no  \n4          93.994          -36.4      4.857       5191.0  no  \n\n[5 rows x 21 columns]",
      "text/html": "<div>\n<style scoped>\n    .dataframe tbody tr th:only-of-type {\n        vertical-align: middle;\n    }\n\n    .dataframe tbody tr th {\n        vertical-align: top;\n    }\n\n    .dataframe thead th {\n        text-align: right;\n    }\n</style>\n<table border=\"1\" class=\"dataframe\">\n  <thead>\n    <tr style=\"text-align: right;\">\n      <th></th>\n      <th>age</th>\n      <th>job</th>\n      <th>marital</th>\n      <th>education</th>\n      <th>default</th>\n      <th>housing</th>\n      <th>loan</th>\n      <th>contact</th>\n      <th>month</th>\n      <th>day_of_week</th>\n      <th>...</th>\n      <th>campaign</th>\n      <th>pdays</th>\n      <th>previous</th>\n      <th>poutcome</th>\n      <th>emp.var.rate</th>\n      <th>cons.price.idx</th>\n      <th>cons.conf.idx</th>\n      <th>euribor3m</th>\n      <th>nr.employed</th>\n      <th>y</th>\n    </tr>\n  </thead>\n  <tbody>\n    <tr>\n      <th>0</th>\n      <td>56</td>\n      <td>housemaid</td>\n      <td>married</td>\n      <td>basic.4y</td>\n      <td>no</td>\n      <td>no</td>\n      <td>no</td>\n      <td>telephone</td>\n      <td>may</td>\n      <td>mon</td>\n      <td>...</td>\n      <td>1</td>\n      <td>999</td>\n      <td>0</td>\n      <td>nonexistent</td>\n      <td>1.1</td>\n      <td>93.994</td>\n      <td>-36.4</td>\n      <td>4.857</td>\n      <td>5191.0</td>\n      <td>no</td>\n    </tr>\n    <tr>\n      <th>1</th>\n      <td>57</td>\n      <td>services</td>\n      <td>married</td>\n      <td>high.school</td>\n      <td>unknown</td>\n      <td>no</td>\n      <td>no</td>\n      <td>telephone</td>\n      <td>may</td>\n      <td>mon</td>\n      <td>...</td>\n      <td>1</td>\n      <td>999</td>\n      <td>0</td>\n      <td>nonexistent</td>\n      <td>1.1</td>\n      <td>93.994</td>\n      <td>-36.4</td>\n      <td>4.857</td>\n      <td>5191.0</td>\n      <td>no</td>\n    </tr>\n    <tr>\n      <th>2</th>\n      <td>37</td>\n      <td>services</td>\n      <td>married</td>\n      <td>high.school</td>\n      <td>no</td>\n      <td>yes</td>\n      <td>no</td>\n      <td>telephone</td>\n      <td>may</td>\n      <td>mon</td>\n      <td>...</td>\n      <td>1</td>\n      <td>999</td>\n      <td>0</td>\n      <td>nonexistent</td>\n      <td>1.1</td>\n      <td>93.994</td>\n      <td>-36.4</td>\n      <td>4.857</td>\n      <td>5191.0</td>\n      <td>no</td>\n    </tr>\n    <tr>\n      <th>3</th>\n      <td>40</td>\n      <td>admin.</td>\n      <td>married</td>\n      <td>basic.6y</td>\n      <td>no</td>\n      <td>no</td>\n      <td>no</td>\n      <td>telephone</td>\n      <td>may</td>\n      <td>mon</td>\n      <td>...</td>\n      <td>1</td>\n      <td>999</td>\n      <td>0</td>\n      <td>nonexistent</td>\n      <td>1.1</td>\n      <td>93.994</td>\n      <td>-36.4</td>\n      <td>4.857</td>\n      <td>5191.0</td>\n      <td>no</td>\n    </tr>\n    <tr>\n      <th>4</th>\n      <td>56</td>\n      <td>services</td>\n      <td>married</td>\n      <td>high.school</td>\n      <td>no</td>\n      <td>no</td>\n      <td>yes</td>\n      <td>telephone</td>\n      <td>may</td>\n      <td>mon</td>\n      <td>...</td>\n      <td>1</td>\n      <td>999</td>\n      <td>0</td>\n      <td>nonexistent</td>\n      <td>1.1</td>\n      <td>93.994</td>\n      <td>-36.4</td>\n      <td>4.857</td>\n      <td>5191.0</td>\n      <td>no</td>\n    </tr>\n  </tbody>\n</table>\n<p>5 rows × 21 columns</p>\n</div>"
     },
     "execution_count": 3,
     "metadata": {},
     "output_type": "execute_result"
    }
   ],
   "source": [
    "df.head()"
   ]
  },
  {
   "cell_type": "code",
   "execution_count": 4,
   "outputs": [
    {
     "data": {
      "text/plain": "41188"
     },
     "execution_count": 4,
     "metadata": {},
     "output_type": "execute_result"
    }
   ],
   "source": [
    "# There are around 41288 records for the marketing campaign data\n",
    "len(df)"
   ],
   "metadata": {
    "collapsed": false,
    "pycharm": {
     "name": "#%%\n"
    }
   }
  },
  {
   "cell_type": "markdown",
   "metadata": {},
   "source": [
    "### Understanding the Features\n",
    "\n",
    "\n",
    "Examine the data description below, and determine if any of the features are missing values or need to be coerced to a different data type.\n",
    "\n",
    "\n",
    "```\n",
    "Input variables:\n",
    "# bank client data:\n",
    "1 - age (numeric)\n",
    "2 - job : type of job (categorical: 'admin.','blue-collar','entrepreneur','housemaid','management','retired','self-employed','services','student','technician','unemployed','unknown')\n",
    "3 - marital : marital status (categorical: 'divorced','married','single','unknown'; note: 'divorced' means divorced or widowed)\n",
    "4 - education (categorical: 'basic.4y','basic.6y','basic.9y','high.school','illiterate','professional.course','university.degree','unknown')\n",
    "5 - default: has credit in default? (categorical: 'no','yes','unknown')\n",
    "6 - housing: has housing loan? (categorical: 'no','yes','unknown')\n",
    "7 - loan: has personal loan? (categorical: 'no','yes','unknown')\n",
    "# related with the last contact of the current campaign:\n",
    "8 - contact: contact communication type (categorical: 'cellular','telephone')\n",
    "9 - month: last contact month of year (categorical: 'jan', 'feb', 'mar', ..., 'nov', 'dec')\n",
    "10 - day_of_week: last contact day of the week (categorical: 'mon','tue','wed','thu','fri')\n",
    "11 - duration: last contact duration, in seconds (numeric). Important note: this attribute highly affects the output target (e.g., if duration=0 then y='no'). Yet, the duration is not known before a call is performed. Also, after the end of the call y is obviously known. Thus, this input should only be included for benchmark pur\n",
    "es and should be discarded if the intention is to have a realistic predictive model.\n",
    "# other attributes:\n",
    "12 - campaign: number of contacts performed during this campaign and for this client (numeric, includes last contact)\n",
    "13 - pdays: number of days that passed by after the client was last contacted from a previous campaign (numeric; 999 means client was not previously contacted)\n",
    "14 - previous: number of contacts performed before this campaign and for this client (numeric)\n",
    "15 - poutcome: outcome of the previous marketing campaign (categorical: 'failure','nonexistent','success')\n",
    "# social and economic context attributes\n",
    "16 - emp.var.rate: employment variation rate - quarterly indicator (numeric)\n",
    "17 - cons.price.idx: consumer price index - monthly indicator (numeric)\n",
    "18 - cons.conf.idx: consumer confidence index - monthly indicator (numeric)\n",
    "19 - euribor3m: euribor 3 month rate - daily indicator (numeric)\n",
    "20 - nr.employed: number of employees - quarterly indicator (numeric)\n",
    "\n",
    "Output variable (desired target):\n",
    "21 - y - has the client subscribed a term deposit? (binary: 'yes','no')\n",
    "```\n",
    "\n"
   ]
  },
  {
   "cell_type": "code",
   "execution_count": 5,
   "outputs": [
    {
     "name": "stdout",
     "output_type": "stream",
     "text": [
      "<class 'pandas.core.frame.DataFrame'>\n",
      "RangeIndex: 41188 entries, 0 to 41187\n",
      "Data columns (total 21 columns):\n",
      " #   Column          Non-Null Count  Dtype  \n",
      "---  ------          --------------  -----  \n",
      " 0   age             41188 non-null  int64  \n",
      " 1   job             41188 non-null  object \n",
      " 2   marital         41188 non-null  object \n",
      " 3   education       41188 non-null  object \n",
      " 4   default         41188 non-null  object \n",
      " 5   housing         41188 non-null  object \n",
      " 6   loan            41188 non-null  object \n",
      " 7   contact         41188 non-null  object \n",
      " 8   month           41188 non-null  object \n",
      " 9   day_of_week     41188 non-null  object \n",
      " 10  duration        41188 non-null  int64  \n",
      " 11  campaign        41188 non-null  int64  \n",
      " 12  pdays           41188 non-null  int64  \n",
      " 13  previous        41188 non-null  int64  \n",
      " 14  poutcome        41188 non-null  object \n",
      " 15  emp.var.rate    41188 non-null  float64\n",
      " 16  cons.price.idx  41188 non-null  float64\n",
      " 17  cons.conf.idx   41188 non-null  float64\n",
      " 18  euribor3m       41188 non-null  float64\n",
      " 19  nr.employed     41188 non-null  float64\n",
      " 20  y               41188 non-null  object \n",
      "dtypes: float64(5), int64(5), object(11)\n",
      "memory usage: 6.6+ MB\n"
     ]
    }
   ],
   "source": [
    "df.info()"
   ],
   "metadata": {
    "collapsed": false,
    "pycharm": {
     "name": "#%%\n"
    }
   }
  },
  {
   "cell_type": "code",
   "execution_count": 6,
   "outputs": [
    {
     "data": {
      "text/plain": "               age      duration      campaign         pdays      previous  \\\ncount  41188.00000  41188.000000  41188.000000  41188.000000  41188.000000   \nmean      40.02406    258.285010      2.567593    962.475454      0.172963   \nstd       10.42125    259.279249      2.770014    186.910907      0.494901   \nmin       17.00000      0.000000      1.000000      0.000000      0.000000   \n25%       32.00000    102.000000      1.000000    999.000000      0.000000   \n50%       38.00000    180.000000      2.000000    999.000000      0.000000   \n75%       47.00000    319.000000      3.000000    999.000000      0.000000   \nmax       98.00000   4918.000000     56.000000    999.000000      7.000000   \n\n       emp.var.rate  cons.price.idx  cons.conf.idx     euribor3m   nr.employed  \ncount  41188.000000    41188.000000   41188.000000  41188.000000  41188.000000  \nmean       0.081886       93.575664     -40.502600      3.621291   5167.035911  \nstd        1.570960        0.578840       4.628198      1.734447     72.251528  \nmin       -3.400000       92.201000     -50.800000      0.634000   4963.600000  \n25%       -1.800000       93.075000     -42.700000      1.344000   5099.100000  \n50%        1.100000       93.749000     -41.800000      4.857000   5191.000000  \n75%        1.400000       93.994000     -36.400000      4.961000   5228.100000  \nmax        1.400000       94.767000     -26.900000      5.045000   5228.100000  ",
      "text/html": "<div>\n<style scoped>\n    .dataframe tbody tr th:only-of-type {\n        vertical-align: middle;\n    }\n\n    .dataframe tbody tr th {\n        vertical-align: top;\n    }\n\n    .dataframe thead th {\n        text-align: right;\n    }\n</style>\n<table border=\"1\" class=\"dataframe\">\n  <thead>\n    <tr style=\"text-align: right;\">\n      <th></th>\n      <th>age</th>\n      <th>duration</th>\n      <th>campaign</th>\n      <th>pdays</th>\n      <th>previous</th>\n      <th>emp.var.rate</th>\n      <th>cons.price.idx</th>\n      <th>cons.conf.idx</th>\n      <th>euribor3m</th>\n      <th>nr.employed</th>\n    </tr>\n  </thead>\n  <tbody>\n    <tr>\n      <th>count</th>\n      <td>41188.00000</td>\n      <td>41188.000000</td>\n      <td>41188.000000</td>\n      <td>41188.000000</td>\n      <td>41188.000000</td>\n      <td>41188.000000</td>\n      <td>41188.000000</td>\n      <td>41188.000000</td>\n      <td>41188.000000</td>\n      <td>41188.000000</td>\n    </tr>\n    <tr>\n      <th>mean</th>\n      <td>40.02406</td>\n      <td>258.285010</td>\n      <td>2.567593</td>\n      <td>962.475454</td>\n      <td>0.172963</td>\n      <td>0.081886</td>\n      <td>93.575664</td>\n      <td>-40.502600</td>\n      <td>3.621291</td>\n      <td>5167.035911</td>\n    </tr>\n    <tr>\n      <th>std</th>\n      <td>10.42125</td>\n      <td>259.279249</td>\n      <td>2.770014</td>\n      <td>186.910907</td>\n      <td>0.494901</td>\n      <td>1.570960</td>\n      <td>0.578840</td>\n      <td>4.628198</td>\n      <td>1.734447</td>\n      <td>72.251528</td>\n    </tr>\n    <tr>\n      <th>min</th>\n      <td>17.00000</td>\n      <td>0.000000</td>\n      <td>1.000000</td>\n      <td>0.000000</td>\n      <td>0.000000</td>\n      <td>-3.400000</td>\n      <td>92.201000</td>\n      <td>-50.800000</td>\n      <td>0.634000</td>\n      <td>4963.600000</td>\n    </tr>\n    <tr>\n      <th>25%</th>\n      <td>32.00000</td>\n      <td>102.000000</td>\n      <td>1.000000</td>\n      <td>999.000000</td>\n      <td>0.000000</td>\n      <td>-1.800000</td>\n      <td>93.075000</td>\n      <td>-42.700000</td>\n      <td>1.344000</td>\n      <td>5099.100000</td>\n    </tr>\n    <tr>\n      <th>50%</th>\n      <td>38.00000</td>\n      <td>180.000000</td>\n      <td>2.000000</td>\n      <td>999.000000</td>\n      <td>0.000000</td>\n      <td>1.100000</td>\n      <td>93.749000</td>\n      <td>-41.800000</td>\n      <td>4.857000</td>\n      <td>5191.000000</td>\n    </tr>\n    <tr>\n      <th>75%</th>\n      <td>47.00000</td>\n      <td>319.000000</td>\n      <td>3.000000</td>\n      <td>999.000000</td>\n      <td>0.000000</td>\n      <td>1.400000</td>\n      <td>93.994000</td>\n      <td>-36.400000</td>\n      <td>4.961000</td>\n      <td>5228.100000</td>\n    </tr>\n    <tr>\n      <th>max</th>\n      <td>98.00000</td>\n      <td>4918.000000</td>\n      <td>56.000000</td>\n      <td>999.000000</td>\n      <td>7.000000</td>\n      <td>1.400000</td>\n      <td>94.767000</td>\n      <td>-26.900000</td>\n      <td>5.045000</td>\n      <td>5228.100000</td>\n    </tr>\n  </tbody>\n</table>\n</div>"
     },
     "execution_count": 6,
     "metadata": {},
     "output_type": "execute_result"
    }
   ],
   "source": [
    "df.describe()"
   ],
   "metadata": {
    "collapsed": false,
    "pycharm": {
     "name": "#%%\n"
    }
   }
  },
  {
   "cell_type": "code",
   "execution_count": 7,
   "outputs": [
    {
     "data": {
      "text/plain": "[]"
     },
     "execution_count": 7,
     "metadata": {},
     "output_type": "execute_result"
    }
   ],
   "source": [
    "# There is no column with null values.\n",
    "df.columns[df.isnull().any()].tolist()"
   ],
   "metadata": {
    "collapsed": false,
    "pycharm": {
     "name": "#%%\n"
    }
   }
  },
  {
   "cell_type": "markdown",
   "metadata": {},
   "source": [
    "### Understanding the Task\n",
    "\n",
    "After examining the description and data, your goal now is to clearly state the *Business Objective* of the task.  State the objective below."
   ]
  },
  {
   "cell_type": "code",
   "execution_count": 8,
   "metadata": {},
   "outputs": [],
   "source": [
    "## Business Objective ##\n",
    "# The business objective is to analyze the given dataset using different classification models to see\n",
    "# if the data properly fits different models and what are their accuracy scores. Using this analysis,\n",
    "# the data can be used to offer different products in the future based on similar features and demographics."
   ]
  },
  {
   "cell_type": "markdown",
   "metadata": {},
   "source": [
    "### Engineering Features\n",
    "\n",
    "Now that you understand your business objective, we will build a basic model to get started.  Before we can do this, we must work to encode the data.  Using just the bank information features (columns 1 - 7), prepare the features and target column for modeling with appropriate encoding and transformations."
   ]
  },
  {
   "cell_type": "code",
   "execution_count": 9,
   "metadata": {},
   "outputs": [
    {
     "data": {
      "text/plain": "   age        job  marital    education  default housing loan\n0   56  housemaid  married     basic.4y       no      no   no\n1   57   services  married  high.school  unknown      no   no\n2   37   services  married  high.school       no     yes   no\n3   40     admin.  married     basic.6y       no      no   no\n4   56   services  married  high.school       no      no  yes",
      "text/html": "<div>\n<style scoped>\n    .dataframe tbody tr th:only-of-type {\n        vertical-align: middle;\n    }\n\n    .dataframe tbody tr th {\n        vertical-align: top;\n    }\n\n    .dataframe thead th {\n        text-align: right;\n    }\n</style>\n<table border=\"1\" class=\"dataframe\">\n  <thead>\n    <tr style=\"text-align: right;\">\n      <th></th>\n      <th>age</th>\n      <th>job</th>\n      <th>marital</th>\n      <th>education</th>\n      <th>default</th>\n      <th>housing</th>\n      <th>loan</th>\n    </tr>\n  </thead>\n  <tbody>\n    <tr>\n      <th>0</th>\n      <td>56</td>\n      <td>housemaid</td>\n      <td>married</td>\n      <td>basic.4y</td>\n      <td>no</td>\n      <td>no</td>\n      <td>no</td>\n    </tr>\n    <tr>\n      <th>1</th>\n      <td>57</td>\n      <td>services</td>\n      <td>married</td>\n      <td>high.school</td>\n      <td>unknown</td>\n      <td>no</td>\n      <td>no</td>\n    </tr>\n    <tr>\n      <th>2</th>\n      <td>37</td>\n      <td>services</td>\n      <td>married</td>\n      <td>high.school</td>\n      <td>no</td>\n      <td>yes</td>\n      <td>no</td>\n    </tr>\n    <tr>\n      <th>3</th>\n      <td>40</td>\n      <td>admin.</td>\n      <td>married</td>\n      <td>basic.6y</td>\n      <td>no</td>\n      <td>no</td>\n      <td>no</td>\n    </tr>\n    <tr>\n      <th>4</th>\n      <td>56</td>\n      <td>services</td>\n      <td>married</td>\n      <td>high.school</td>\n      <td>no</td>\n      <td>no</td>\n      <td>yes</td>\n    </tr>\n  </tbody>\n</table>\n</div>"
     },
     "execution_count": 9,
     "metadata": {},
     "output_type": "execute_result"
    }
   ],
   "source": [
    "df_features = df[['age', 'job', 'marital', 'education', 'default', 'housing', 'loan']].copy()\n",
    "df_features.head()"
   ]
  },
  {
   "cell_type": "code",
   "execution_count": 10,
   "outputs": [
    {
     "data": {
      "text/plain": "   age  default housing loan  job_admin.  job_blue-collar  job_entrepreneur  \\\n0   56       no      no   no           0                0                 0   \n1   57  unknown      no   no           0                0                 0   \n2   37       no     yes   no           0                0                 0   \n3   40       no      no   no           1                0                 0   \n4   56       no      no  yes           0                0                 0   \n\n   job_housemaid  job_management  job_retired  ...  marital_single  \\\n0              1               0            0  ...               0   \n1              0               0            0  ...               0   \n2              0               0            0  ...               0   \n3              0               0            0  ...               0   \n4              0               0            0  ...               0   \n\n   marital_unknown  education_basic.4y  education_basic.6y  \\\n0                0                   1                   0   \n1                0                   0                   0   \n2                0                   0                   0   \n3                0                   0                   1   \n4                0                   0                   0   \n\n   education_basic.9y  education_high.school  education_illiterate  \\\n0                   0                      0                     0   \n1                   0                      1                     0   \n2                   0                      1                     0   \n3                   0                      0                     0   \n4                   0                      1                     0   \n\n   education_professional.course  education_university.degree  \\\n0                              0                            0   \n1                              0                            0   \n2                              0                            0   \n3                              0                            0   \n4                              0                            0   \n\n   education_unknown  \n0                  0  \n1                  0  \n2                  0  \n3                  0  \n4                  0  \n\n[5 rows x 28 columns]",
      "text/html": "<div>\n<style scoped>\n    .dataframe tbody tr th:only-of-type {\n        vertical-align: middle;\n    }\n\n    .dataframe tbody tr th {\n        vertical-align: top;\n    }\n\n    .dataframe thead th {\n        text-align: right;\n    }\n</style>\n<table border=\"1\" class=\"dataframe\">\n  <thead>\n    <tr style=\"text-align: right;\">\n      <th></th>\n      <th>age</th>\n      <th>default</th>\n      <th>housing</th>\n      <th>loan</th>\n      <th>job_admin.</th>\n      <th>job_blue-collar</th>\n      <th>job_entrepreneur</th>\n      <th>job_housemaid</th>\n      <th>job_management</th>\n      <th>job_retired</th>\n      <th>...</th>\n      <th>marital_single</th>\n      <th>marital_unknown</th>\n      <th>education_basic.4y</th>\n      <th>education_basic.6y</th>\n      <th>education_basic.9y</th>\n      <th>education_high.school</th>\n      <th>education_illiterate</th>\n      <th>education_professional.course</th>\n      <th>education_university.degree</th>\n      <th>education_unknown</th>\n    </tr>\n  </thead>\n  <tbody>\n    <tr>\n      <th>0</th>\n      <td>56</td>\n      <td>no</td>\n      <td>no</td>\n      <td>no</td>\n      <td>0</td>\n      <td>0</td>\n      <td>0</td>\n      <td>1</td>\n      <td>0</td>\n      <td>0</td>\n      <td>...</td>\n      <td>0</td>\n      <td>0</td>\n      <td>1</td>\n      <td>0</td>\n      <td>0</td>\n      <td>0</td>\n      <td>0</td>\n      <td>0</td>\n      <td>0</td>\n      <td>0</td>\n    </tr>\n    <tr>\n      <th>1</th>\n      <td>57</td>\n      <td>unknown</td>\n      <td>no</td>\n      <td>no</td>\n      <td>0</td>\n      <td>0</td>\n      <td>0</td>\n      <td>0</td>\n      <td>0</td>\n      <td>0</td>\n      <td>...</td>\n      <td>0</td>\n      <td>0</td>\n      <td>0</td>\n      <td>0</td>\n      <td>0</td>\n      <td>1</td>\n      <td>0</td>\n      <td>0</td>\n      <td>0</td>\n      <td>0</td>\n    </tr>\n    <tr>\n      <th>2</th>\n      <td>37</td>\n      <td>no</td>\n      <td>yes</td>\n      <td>no</td>\n      <td>0</td>\n      <td>0</td>\n      <td>0</td>\n      <td>0</td>\n      <td>0</td>\n      <td>0</td>\n      <td>...</td>\n      <td>0</td>\n      <td>0</td>\n      <td>0</td>\n      <td>0</td>\n      <td>0</td>\n      <td>1</td>\n      <td>0</td>\n      <td>0</td>\n      <td>0</td>\n      <td>0</td>\n    </tr>\n    <tr>\n      <th>3</th>\n      <td>40</td>\n      <td>no</td>\n      <td>no</td>\n      <td>no</td>\n      <td>1</td>\n      <td>0</td>\n      <td>0</td>\n      <td>0</td>\n      <td>0</td>\n      <td>0</td>\n      <td>...</td>\n      <td>0</td>\n      <td>0</td>\n      <td>0</td>\n      <td>1</td>\n      <td>0</td>\n      <td>0</td>\n      <td>0</td>\n      <td>0</td>\n      <td>0</td>\n      <td>0</td>\n    </tr>\n    <tr>\n      <th>4</th>\n      <td>56</td>\n      <td>no</td>\n      <td>no</td>\n      <td>yes</td>\n      <td>0</td>\n      <td>0</td>\n      <td>0</td>\n      <td>0</td>\n      <td>0</td>\n      <td>0</td>\n      <td>...</td>\n      <td>0</td>\n      <td>0</td>\n      <td>0</td>\n      <td>0</td>\n      <td>0</td>\n      <td>1</td>\n      <td>0</td>\n      <td>0</td>\n      <td>0</td>\n      <td>0</td>\n    </tr>\n  </tbody>\n</table>\n<p>5 rows × 28 columns</p>\n</div>"
     },
     "execution_count": 10,
     "metadata": {},
     "output_type": "execute_result"
    }
   ],
   "source": [
    "# one-hot encoding (categorical variables with more levels)\n",
    "one_hot_encoding_columns = ['job', 'marital', 'education']\n",
    "\n",
    "# encode categorical variables with more levels using one-hot encoding\n",
    "df_transformed = pd.get_dummies(df_features, columns = one_hot_encoding_columns)\n",
    "df_transformed.head()"
   ],
   "metadata": {
    "collapsed": false,
    "pycharm": {
     "name": "#%%\n"
    }
   }
  },
  {
   "cell_type": "code",
   "execution_count": 11,
   "metadata": {},
   "outputs": [
    {
     "data": {
      "text/plain": "   age  default  housing  loan  job_admin.  job_blue-collar  job_entrepreneur  \\\n0   56        0        0     0           0                0                 0   \n1   57        1        0     0           0                0                 0   \n2   37        0        2     0           0                0                 0   \n3   40        0        0     0           1                0                 0   \n4   56        0        0     2           0                0                 0   \n\n   job_housemaid  job_management  job_retired  ...  marital_single  \\\n0              1               0            0  ...               0   \n1              0               0            0  ...               0   \n2              0               0            0  ...               0   \n3              0               0            0  ...               0   \n4              0               0            0  ...               0   \n\n   marital_unknown  education_basic.4y  education_basic.6y  \\\n0                0                   1                   0   \n1                0                   0                   0   \n2                0                   0                   0   \n3                0                   0                   1   \n4                0                   0                   0   \n\n   education_basic.9y  education_high.school  education_illiterate  \\\n0                   0                      0                     0   \n1                   0                      1                     0   \n2                   0                      1                     0   \n3                   0                      0                     0   \n4                   0                      1                     0   \n\n   education_professional.course  education_university.degree  \\\n0                              0                            0   \n1                              0                            0   \n2                              0                            0   \n3                              0                            0   \n4                              0                            0   \n\n   education_unknown  \n0                  0  \n1                  0  \n2                  0  \n3                  0  \n4                  0  \n\n[5 rows x 28 columns]",
      "text/html": "<div>\n<style scoped>\n    .dataframe tbody tr th:only-of-type {\n        vertical-align: middle;\n    }\n\n    .dataframe tbody tr th {\n        vertical-align: top;\n    }\n\n    .dataframe thead th {\n        text-align: right;\n    }\n</style>\n<table border=\"1\" class=\"dataframe\">\n  <thead>\n    <tr style=\"text-align: right;\">\n      <th></th>\n      <th>age</th>\n      <th>default</th>\n      <th>housing</th>\n      <th>loan</th>\n      <th>job_admin.</th>\n      <th>job_blue-collar</th>\n      <th>job_entrepreneur</th>\n      <th>job_housemaid</th>\n      <th>job_management</th>\n      <th>job_retired</th>\n      <th>...</th>\n      <th>marital_single</th>\n      <th>marital_unknown</th>\n      <th>education_basic.4y</th>\n      <th>education_basic.6y</th>\n      <th>education_basic.9y</th>\n      <th>education_high.school</th>\n      <th>education_illiterate</th>\n      <th>education_professional.course</th>\n      <th>education_university.degree</th>\n      <th>education_unknown</th>\n    </tr>\n  </thead>\n  <tbody>\n    <tr>\n      <th>0</th>\n      <td>56</td>\n      <td>0</td>\n      <td>0</td>\n      <td>0</td>\n      <td>0</td>\n      <td>0</td>\n      <td>0</td>\n      <td>1</td>\n      <td>0</td>\n      <td>0</td>\n      <td>...</td>\n      <td>0</td>\n      <td>0</td>\n      <td>1</td>\n      <td>0</td>\n      <td>0</td>\n      <td>0</td>\n      <td>0</td>\n      <td>0</td>\n      <td>0</td>\n      <td>0</td>\n    </tr>\n    <tr>\n      <th>1</th>\n      <td>57</td>\n      <td>1</td>\n      <td>0</td>\n      <td>0</td>\n      <td>0</td>\n      <td>0</td>\n      <td>0</td>\n      <td>0</td>\n      <td>0</td>\n      <td>0</td>\n      <td>...</td>\n      <td>0</td>\n      <td>0</td>\n      <td>0</td>\n      <td>0</td>\n      <td>0</td>\n      <td>1</td>\n      <td>0</td>\n      <td>0</td>\n      <td>0</td>\n      <td>0</td>\n    </tr>\n    <tr>\n      <th>2</th>\n      <td>37</td>\n      <td>0</td>\n      <td>2</td>\n      <td>0</td>\n      <td>0</td>\n      <td>0</td>\n      <td>0</td>\n      <td>0</td>\n      <td>0</td>\n      <td>0</td>\n      <td>...</td>\n      <td>0</td>\n      <td>0</td>\n      <td>0</td>\n      <td>0</td>\n      <td>0</td>\n      <td>1</td>\n      <td>0</td>\n      <td>0</td>\n      <td>0</td>\n      <td>0</td>\n    </tr>\n    <tr>\n      <th>3</th>\n      <td>40</td>\n      <td>0</td>\n      <td>0</td>\n      <td>0</td>\n      <td>1</td>\n      <td>0</td>\n      <td>0</td>\n      <td>0</td>\n      <td>0</td>\n      <td>0</td>\n      <td>...</td>\n      <td>0</td>\n      <td>0</td>\n      <td>0</td>\n      <td>1</td>\n      <td>0</td>\n      <td>0</td>\n      <td>0</td>\n      <td>0</td>\n      <td>0</td>\n      <td>0</td>\n    </tr>\n    <tr>\n      <th>4</th>\n      <td>56</td>\n      <td>0</td>\n      <td>0</td>\n      <td>2</td>\n      <td>0</td>\n      <td>0</td>\n      <td>0</td>\n      <td>0</td>\n      <td>0</td>\n      <td>0</td>\n      <td>...</td>\n      <td>0</td>\n      <td>0</td>\n      <td>0</td>\n      <td>0</td>\n      <td>0</td>\n      <td>1</td>\n      <td>0</td>\n      <td>0</td>\n      <td>0</td>\n      <td>0</td>\n    </tr>\n  </tbody>\n</table>\n<p>5 rows × 28 columns</p>\n</div>"
     },
     "execution_count": 11,
     "metadata": {},
     "output_type": "execute_result"
    }
   ],
   "source": [
    "from sklearn import preprocessing\n",
    "\n",
    "label_encoder = preprocessing.LabelEncoder()\n",
    "df_transformed['default'] = label_encoder.fit_transform(df_transformed['default'])\n",
    "df_transformed['housing'] = label_encoder.fit_transform(df_transformed['housing'])\n",
    "df_transformed['loan'] = label_encoder.fit_transform(df_transformed['loan'])\n",
    "\n",
    "df_transformed.head()"
   ]
  },
  {
   "cell_type": "code",
   "execution_count": 12,
   "metadata": {},
   "outputs": [
    {
     "data": {
      "text/plain": "        age   default   housing      loan  job_admin.  job_blue-collar  \\\n0  1.533034 -0.513600 -1.087707 -0.452491   -0.582023        -0.538317   \n1  1.628993  1.945327 -1.087707 -0.452491   -0.582023        -0.538317   \n2 -0.290186 -0.513600  0.942127 -0.452491   -0.582023        -0.538317   \n3 -0.002309 -0.513600 -1.087707 -0.452491    1.718146        -0.538317   \n4  1.533034 -0.513600 -1.087707  2.311440   -0.582023        -0.538317   \n\n   job_entrepreneur  job_housemaid  job_management  job_retired  ...  \\\n0          -0.19143       6.152772       -0.276435    -0.208757  ...   \n1          -0.19143      -0.162528       -0.276435    -0.208757  ...   \n2          -0.19143      -0.162528       -0.276435    -0.208757  ...   \n3          -0.19143      -0.162528       -0.276435    -0.208757  ...   \n4          -0.19143      -0.162528       -0.276435    -0.208757  ...   \n\n   marital_single  marital_unknown  education_basic.4y  education_basic.6y  \\\n0       -0.624938        -0.044115            2.977084           -0.242748   \n1       -0.624938        -0.044115           -0.335899           -0.242748   \n2       -0.624938        -0.044115           -0.335899           -0.242748   \n3       -0.624938        -0.044115           -0.335899            4.119506   \n4       -0.624938        -0.044115           -0.335899           -0.242748   \n\n   education_basic.9y  education_high.school  education_illiterate  \\\n0           -0.414743              -0.548100              -0.02091   \n1           -0.414743               1.824485              -0.02091   \n2           -0.414743               1.824485              -0.02091   \n3           -0.414743              -0.548100              -0.02091   \n4           -0.414743               1.824485              -0.02091   \n\n   education_professional.course  education_university.degree  \\\n0                      -0.381918                    -0.647531   \n1                      -0.381918                    -0.647531   \n2                      -0.381918                    -0.647531   \n3                      -0.381918                    -0.647531   \n4                      -0.381918                    -0.647531   \n\n   education_unknown  \n0          -0.209453  \n1          -0.209453  \n2          -0.209453  \n3          -0.209453  \n4          -0.209453  \n\n[5 rows x 28 columns]",
      "text/html": "<div>\n<style scoped>\n    .dataframe tbody tr th:only-of-type {\n        vertical-align: middle;\n    }\n\n    .dataframe tbody tr th {\n        vertical-align: top;\n    }\n\n    .dataframe thead th {\n        text-align: right;\n    }\n</style>\n<table border=\"1\" class=\"dataframe\">\n  <thead>\n    <tr style=\"text-align: right;\">\n      <th></th>\n      <th>age</th>\n      <th>default</th>\n      <th>housing</th>\n      <th>loan</th>\n      <th>job_admin.</th>\n      <th>job_blue-collar</th>\n      <th>job_entrepreneur</th>\n      <th>job_housemaid</th>\n      <th>job_management</th>\n      <th>job_retired</th>\n      <th>...</th>\n      <th>marital_single</th>\n      <th>marital_unknown</th>\n      <th>education_basic.4y</th>\n      <th>education_basic.6y</th>\n      <th>education_basic.9y</th>\n      <th>education_high.school</th>\n      <th>education_illiterate</th>\n      <th>education_professional.course</th>\n      <th>education_university.degree</th>\n      <th>education_unknown</th>\n    </tr>\n  </thead>\n  <tbody>\n    <tr>\n      <th>0</th>\n      <td>1.533034</td>\n      <td>-0.513600</td>\n      <td>-1.087707</td>\n      <td>-0.452491</td>\n      <td>-0.582023</td>\n      <td>-0.538317</td>\n      <td>-0.19143</td>\n      <td>6.152772</td>\n      <td>-0.276435</td>\n      <td>-0.208757</td>\n      <td>...</td>\n      <td>-0.624938</td>\n      <td>-0.044115</td>\n      <td>2.977084</td>\n      <td>-0.242748</td>\n      <td>-0.414743</td>\n      <td>-0.548100</td>\n      <td>-0.02091</td>\n      <td>-0.381918</td>\n      <td>-0.647531</td>\n      <td>-0.209453</td>\n    </tr>\n    <tr>\n      <th>1</th>\n      <td>1.628993</td>\n      <td>1.945327</td>\n      <td>-1.087707</td>\n      <td>-0.452491</td>\n      <td>-0.582023</td>\n      <td>-0.538317</td>\n      <td>-0.19143</td>\n      <td>-0.162528</td>\n      <td>-0.276435</td>\n      <td>-0.208757</td>\n      <td>...</td>\n      <td>-0.624938</td>\n      <td>-0.044115</td>\n      <td>-0.335899</td>\n      <td>-0.242748</td>\n      <td>-0.414743</td>\n      <td>1.824485</td>\n      <td>-0.02091</td>\n      <td>-0.381918</td>\n      <td>-0.647531</td>\n      <td>-0.209453</td>\n    </tr>\n    <tr>\n      <th>2</th>\n      <td>-0.290186</td>\n      <td>-0.513600</td>\n      <td>0.942127</td>\n      <td>-0.452491</td>\n      <td>-0.582023</td>\n      <td>-0.538317</td>\n      <td>-0.19143</td>\n      <td>-0.162528</td>\n      <td>-0.276435</td>\n      <td>-0.208757</td>\n      <td>...</td>\n      <td>-0.624938</td>\n      <td>-0.044115</td>\n      <td>-0.335899</td>\n      <td>-0.242748</td>\n      <td>-0.414743</td>\n      <td>1.824485</td>\n      <td>-0.02091</td>\n      <td>-0.381918</td>\n      <td>-0.647531</td>\n      <td>-0.209453</td>\n    </tr>\n    <tr>\n      <th>3</th>\n      <td>-0.002309</td>\n      <td>-0.513600</td>\n      <td>-1.087707</td>\n      <td>-0.452491</td>\n      <td>1.718146</td>\n      <td>-0.538317</td>\n      <td>-0.19143</td>\n      <td>-0.162528</td>\n      <td>-0.276435</td>\n      <td>-0.208757</td>\n      <td>...</td>\n      <td>-0.624938</td>\n      <td>-0.044115</td>\n      <td>-0.335899</td>\n      <td>4.119506</td>\n      <td>-0.414743</td>\n      <td>-0.548100</td>\n      <td>-0.02091</td>\n      <td>-0.381918</td>\n      <td>-0.647531</td>\n      <td>-0.209453</td>\n    </tr>\n    <tr>\n      <th>4</th>\n      <td>1.533034</td>\n      <td>-0.513600</td>\n      <td>-1.087707</td>\n      <td>2.311440</td>\n      <td>-0.582023</td>\n      <td>-0.538317</td>\n      <td>-0.19143</td>\n      <td>-0.162528</td>\n      <td>-0.276435</td>\n      <td>-0.208757</td>\n      <td>...</td>\n      <td>-0.624938</td>\n      <td>-0.044115</td>\n      <td>-0.335899</td>\n      <td>-0.242748</td>\n      <td>-0.414743</td>\n      <td>1.824485</td>\n      <td>-0.02091</td>\n      <td>-0.381918</td>\n      <td>-0.647531</td>\n      <td>-0.209453</td>\n    </tr>\n  </tbody>\n</table>\n<p>5 rows × 28 columns</p>\n</div>"
     },
     "execution_count": 12,
     "metadata": {},
     "output_type": "execute_result"
    }
   ],
   "source": [
    "from sklearn.preprocessing import StandardScaler\n",
    "scalar = StandardScaler()\n",
    "df_transformed_scaled = pd.DataFrame(scalar.fit_transform(df_transformed),columns = df_transformed.columns)\n",
    "df_transformed_scaled.head()"
   ]
  },
  {
   "cell_type": "markdown",
   "metadata": {},
   "source": [
    "### Train/Test Split\n",
    "\n",
    "With your data prepared, split it into a train and test set."
   ]
  },
  {
   "cell_type": "code",
   "execution_count": 13,
   "metadata": {},
   "outputs": [
    {
     "name": "stdout",
     "output_type": "stream",
     "text": [
      "\n",
      "separated X and y :\n",
      "y - ['no' 'no' 'no' ... 'no' 'yes' 'no']\n",
      "X -             age   default   housing      loan  job_admin.  job_blue-collar  \\\n",
      "0      1.533034 -0.513600 -1.087707 -0.452491   -0.582023        -0.538317   \n",
      "1      1.628993  1.945327 -1.087707 -0.452491   -0.582023        -0.538317   \n",
      "2     -0.290186 -0.513600  0.942127 -0.452491   -0.582023        -0.538317   \n",
      "3     -0.002309 -0.513600 -1.087707 -0.452491    1.718146        -0.538317   \n",
      "4      1.533034 -0.513600 -1.087707  2.311440   -0.582023        -0.538317   \n",
      "...         ...       ...       ...       ...         ...              ...   \n",
      "41183  3.164336 -0.513600  0.942127 -0.452491   -0.582023        -0.538317   \n",
      "41184  0.573445 -0.513600 -1.087707 -0.452491   -0.582023         1.857642   \n",
      "41185  1.533034 -0.513600  0.942127 -0.452491   -0.582023        -0.538317   \n",
      "41186  0.381527 -0.513600 -1.087707 -0.452491   -0.582023        -0.538317   \n",
      "41187  3.260295 -0.513600  0.942127 -0.452491   -0.582023        -0.538317   \n",
      "\n",
      "       job_entrepreneur  job_housemaid  job_management  job_retired  ...  \\\n",
      "0              -0.19143       6.152772       -0.276435    -0.208757  ...   \n",
      "1              -0.19143      -0.162528       -0.276435    -0.208757  ...   \n",
      "2              -0.19143      -0.162528       -0.276435    -0.208757  ...   \n",
      "3              -0.19143      -0.162528       -0.276435    -0.208757  ...   \n",
      "4              -0.19143      -0.162528       -0.276435    -0.208757  ...   \n",
      "...                 ...            ...             ...          ...  ...   \n",
      "41183          -0.19143      -0.162528       -0.276435     4.790252  ...   \n",
      "41184          -0.19143      -0.162528       -0.276435    -0.208757  ...   \n",
      "41185          -0.19143      -0.162528       -0.276435     4.790252  ...   \n",
      "41186          -0.19143      -0.162528       -0.276435    -0.208757  ...   \n",
      "41187          -0.19143      -0.162528       -0.276435     4.790252  ...   \n",
      "\n",
      "       marital_single  marital_unknown  education_basic.4y  \\\n",
      "0           -0.624938        -0.044115            2.977084   \n",
      "1           -0.624938        -0.044115           -0.335899   \n",
      "2           -0.624938        -0.044115           -0.335899   \n",
      "3           -0.624938        -0.044115           -0.335899   \n",
      "4           -0.624938        -0.044115           -0.335899   \n",
      "...               ...              ...                 ...   \n",
      "41183       -0.624938        -0.044115           -0.335899   \n",
      "41184       -0.624938        -0.044115           -0.335899   \n",
      "41185       -0.624938        -0.044115           -0.335899   \n",
      "41186       -0.624938        -0.044115           -0.335899   \n",
      "41187       -0.624938        -0.044115           -0.335899   \n",
      "\n",
      "       education_basic.6y  education_basic.9y  education_high.school  \\\n",
      "0               -0.242748           -0.414743              -0.548100   \n",
      "1               -0.242748           -0.414743               1.824485   \n",
      "2               -0.242748           -0.414743               1.824485   \n",
      "3                4.119506           -0.414743              -0.548100   \n",
      "4               -0.242748           -0.414743               1.824485   \n",
      "...                   ...                 ...                    ...   \n",
      "41183           -0.242748           -0.414743              -0.548100   \n",
      "41184           -0.242748           -0.414743              -0.548100   \n",
      "41185           -0.242748           -0.414743              -0.548100   \n",
      "41186           -0.242748           -0.414743              -0.548100   \n",
      "41187           -0.242748           -0.414743              -0.548100   \n",
      "\n",
      "       education_illiterate  education_professional.course  \\\n",
      "0                  -0.02091                      -0.381918   \n",
      "1                  -0.02091                      -0.381918   \n",
      "2                  -0.02091                      -0.381918   \n",
      "3                  -0.02091                      -0.381918   \n",
      "4                  -0.02091                      -0.381918   \n",
      "...                     ...                            ...   \n",
      "41183              -0.02091                       2.618360   \n",
      "41184              -0.02091                       2.618360   \n",
      "41185              -0.02091                      -0.381918   \n",
      "41186              -0.02091                       2.618360   \n",
      "41187              -0.02091                       2.618360   \n",
      "\n",
      "       education_university.degree  education_unknown  \n",
      "0                        -0.647531          -0.209453  \n",
      "1                        -0.647531          -0.209453  \n",
      "2                        -0.647531          -0.209453  \n",
      "3                        -0.647531          -0.209453  \n",
      "4                        -0.647531          -0.209453  \n",
      "...                            ...                ...  \n",
      "41183                    -0.647531          -0.209453  \n",
      "41184                    -0.647531          -0.209453  \n",
      "41185                     1.544326          -0.209453  \n",
      "41186                    -0.647531          -0.209453  \n",
      "41187                    -0.647531          -0.209453  \n",
      "\n",
      "[41188 rows x 28 columns]\n"
     ]
    }
   ],
   "source": [
    "#separating features(X) and label(y)\n",
    "y = df['y'].values\n",
    "X = df_transformed_scaled\n",
    "print(\"\\nseparated X and y :\")\n",
    "print(\"y -\",y)\n",
    "print(\"X -\",X)"
   ]
  },
  {
   "cell_type": "code",
   "execution_count": 14,
   "metadata": {},
   "outputs": [],
   "source": [
    "from sklearn.linear_model import LogisticRegression\n",
    "import time\n",
    "#train_test_split method\n",
    "from sklearn.model_selection import train_test_split\n",
    "X_train, X_test, Y_train, Y_test = train_test_split(X, y, test_size=0.3)"
   ]
  },
  {
   "cell_type": "markdown",
   "metadata": {},
   "source": []
  },
  {
   "cell_type": "code",
   "execution_count": 15,
   "metadata": {},
   "outputs": [
    {
     "data": {
      "text/plain": "no     36548\nyes     4640\nName: y, dtype: int64"
     },
     "execution_count": 15,
     "metadata": {},
     "output_type": "execute_result"
    }
   ],
   "source": [
    "df['y'].value_counts()"
   ]
  },
  {
   "cell_type": "code",
   "execution_count": 16,
   "outputs": [
    {
     "data": {
      "text/plain": "Text(0.5, 1.0, '% of term deposit accepted')"
     },
     "execution_count": 16,
     "metadata": {},
     "output_type": "execute_result"
    },
    {
     "data": {
      "text/plain": "<Figure size 360x360 with 1 Axes>",
      "image/png": "[encoded data removed]"
     },
     "metadata": {},
     "output_type": "display_data"
    }
   ],
   "source": [
    "ax = (df['y'].value_counts()*100.0 /len(df))\\\n",
    ".plot.pie(autopct='%.1f%%', labels = ['No', 'Yes'],figsize =(5,5), fontsize = 12 )\n",
    "\n",
    "ax.set_ylabel('Marketing : term deposit accepted',fontsize = 12)\n",
    "ax.set_title('% of term deposit accepted', fontsize = 12)"
   ],
   "metadata": {
    "collapsed": false,
    "pycharm": {
     "name": "#%%\n"
    }
   }
  },
  {
   "cell_type": "markdown",
   "metadata": {},
   "source": [
    "### Build and Score different Model"
   ]
  },
  {
   "cell_type": "code",
   "execution_count": 17,
   "metadata": {},
   "outputs": [
    {
     "name": "stdout",
     "output_type": "stream",
     "text": [
      "\n",
      "predicted values :\n",
      " ['no' 'no' 'no' ... 'no' 'no' 'no']\n"
     ]
    }
   ],
   "source": [
    "#LogisticRegression\n",
    "classifier=LogisticRegression()\n",
    "start = time.time()\n",
    "classifier.fit(X_train,Y_train)\n",
    "end = time.time()\n",
    "LR_fit_time = end - start\n",
    "Y_pred=classifier.predict(X_test)\n",
    "print(\"\\npredicted values :\\n\",Y_pred)"
   ]
  },
  {
   "cell_type": "code",
   "execution_count": 18,
   "outputs": [
    {
     "name": "stdout",
     "output_type": "stream",
     "text": [
      "\n",
      "The training score using the LR is ->  88.60948284832298\n",
      "\n",
      "The testing score using the LR is ->  89.02646273367321\n",
      "\n",
      "The avg fit time using the LR is ->  0.10109710693359375\n",
      "\n",
      "The accuracy score using the LR is ->  89.02646273367321\n"
     ]
    }
   ],
   "source": [
    "from sklearn.linear_model import LogisticRegression\n",
    "from sklearn import metrics\n",
    "from sklearn.metrics import confusion_matrix\n",
    "from matplotlib import pyplot as plt\n",
    "from sklearn.metrics import ConfusionMatrixDisplay\n",
    "\n",
    "print(\"\\nThe training score using the LR is -> \",classifier.score(X_train, Y_train) * 100)\n",
    "print(\"\\nThe testing score using the LR is -> \",classifier.score(X_test, Y_test) * 100)\n",
    "print(\"\\nThe avg fit time using the LR is -> \",LR_fit_time)\n",
    "\n",
    "print(\"\\nThe accuracy score using the LR is -> \",metrics.accuracy_score(Y_test, Y_pred) * 100)"
   ],
   "metadata": {
    "collapsed": false,
    "pycharm": {
     "name": "#%%\n"
    }
   }
  },
  {
   "cell_type": "code",
   "execution_count": 19,
   "outputs": [
    {
     "name": "stdout",
     "output_type": "stream",
     "text": [
      "\n",
      "The training score using the KNN is ->  88.97714265894349\n",
      "\n",
      "The testing score using the KNN is ->  87.84494618434894\n",
      "\n",
      "The avg fit time using the KNN is ->  0.0532379150390625\n",
      "\n",
      "The accuracy score using the KNN is ->  87.84494618434894\n"
     ]
    }
   ],
   "source": [
    "from sklearn.neighbors import KNeighborsClassifier\n",
    "from sklearn.preprocessing import StandardScaler\n",
    "from sklearn.metrics import accuracy_score\n",
    "from sklearn.pipeline import Pipeline\n",
    "from sklearn import set_config\n",
    "set_config(display=\"diagram\")\n",
    "\n",
    "knn_pipeline = Pipeline([('scale', StandardScaler()), ('knn', KNeighborsClassifier())])\n",
    "start = time.time()\n",
    "knn_pipeline.fit(X_train, Y_train)\n",
    "end = time.time()\n",
    "knn_fit_time = end - start\n",
    "knn_pred = knn_pipeline.predict(X_test)\n",
    "\n",
    "knn_pipeline\n",
    "\n",
    "print(\"\\nThe training score using the KNN is -> \",knn_pipeline.score(X_train, Y_train) * 100)\n",
    "print(\"\\nThe testing score using the KNN is -> \",knn_pipeline.score(X_test, Y_test) * 100)\n",
    "print(\"\\nThe avg fit time using the KNN is -> \",knn_fit_time)\n",
    "\n",
    "print(\"\\nThe accuracy score using the KNN is -> \",metrics.accuracy_score(Y_test, knn_pred) * 100)\n"
   ],
   "metadata": {
    "collapsed": false,
    "pycharm": {
     "name": "#%%\n"
    }
   }
  },
  {
   "cell_type": "code",
   "execution_count": 20,
   "outputs": [
    {
     "name": "stdout",
     "output_type": "stream",
     "text": [
      "\n",
      "The training score using the Decision Tree Classifier is ->  88.73781693316222\n",
      "\n",
      "The testing score using the Decision Tree Classifier is ->  88.94553694262362\n",
      "\n",
      "The avg fit time using the Decision Tree Classifier is ->  0.06218385696411133\n",
      "\n",
      "The accuracy score using the Decision Tree Classifier is ->  88.94553694262362\n"
     ]
    }
   ],
   "source": [
    "from sklearn.tree import DecisionTreeClassifier\n",
    "\n",
    "dtree = DecisionTreeClassifier(max_depth=5, min_samples_split=10, random_state=42).fit(X_train, Y_train)\n",
    "depth_1 = dtree.get_depth()\n",
    "train_acc = dtree.score(X_train, Y_train)\n",
    "test_acc = dtree.score(X_test, Y_test)\n",
    "start = time.time()\n",
    "dtree.fit(X_train, Y_train)\n",
    "end = time.time()\n",
    "dtree_fit_time = end - start\n",
    "dtree_pred = dtree.predict(X_test)\n",
    "\n",
    "print(\"\\nThe training score using the Decision Tree Classifier is -> \",dtree.score(X_train, Y_train) * 100)\n",
    "print(\"\\nThe testing score using the Decision Tree Classifier is -> \",dtree.score(X_test, Y_test) * 100)\n",
    "print(\"\\nThe avg fit time using the Decision Tree Classifier is -> \",dtree_fit_time)\n",
    "print(\"\\nThe accuracy score using the Decision Tree Classifier is -> \",metrics.accuracy_score(Y_test, dtree_pred) * 100)"
   ],
   "metadata": {
    "collapsed": false,
    "pycharm": {
     "name": "#%%\n"
    }
   }
  },
  {
   "cell_type": "code",
   "execution_count": 21,
   "outputs": [
    {
     "name": "stdout",
     "output_type": "stream",
     "text": [
      "\n",
      "The training score using the SVM is ->  88.60948284832298\n",
      "\n",
      "The testing score using the SVM is ->  89.02646273367321\n",
      "\n",
      "The avg fit time using the SVM is ->  11.975003004074097\n",
      "\n",
      "The accuracy score using the SVM is ->  89.02646273367321\n"
     ]
    }
   ],
   "source": [
    "from sklearn.svm import SVC\n",
    "svm = SVC(C=1.0, random_state=1, kernel='linear')\n",
    "\n",
    "# fitting x samples and y classes\n",
    "start = time.time()\n",
    "svm.fit(X_train, Y_train)\n",
    "end = time.time()\n",
    "svm_fit_time = end - start\n",
    "svm_pred = svm.predict(X_test)\n",
    "\n",
    "print(\"\\nThe training score using the SVM is -> \",svm.score(X_train, Y_train) * 100)\n",
    "print(\"\\nThe testing score using the SVM is -> \",svm.score(X_test, Y_test) * 100)\n",
    "print(\"\\nThe avg fit time using the SVM is -> \",svm_fit_time)\n",
    "\n",
    "print(\"\\nThe accuracy score using the SVM is -> \",metrics.accuracy_score(Y_test, svm_pred) * 100)"
   ],
   "metadata": {
    "collapsed": false,
    "pycharm": {
     "name": "#%%\n"
    }
   }
  },
  {
   "cell_type": "markdown",
   "metadata": {},
   "source": []
  },
  {
   "cell_type": "markdown",
   "metadata": {},
   "source": [
    "### Model Comparisons\n",
    "\n",
    "Now, we aim to compare the performance of the Logistic Regression model to our KNN algorithm, Decision Tree, and SVM models.  Using the default settings for each of the models, fit and score each.  Also, be sure to compare the fit time of each of the models.  Present your findings in a `DataFrame` similar to that below:\n",
    "\n",
    "| Model | Train Time | Train Accuracy | Test Accuracy |\n",
    "| ----- | ---------- | -------------  | -----------   |\n",
    "|     |    |.     |.     |"
   ]
  },
  {
   "cell_type": "code",
   "execution_count": 22,
   "metadata": {},
   "outputs": [
    {
     "data": {
      "text/plain": "                 Model  Train time  Train Accuracy  Test Accuracy\n0  Logistic Regression       0.100           88.78          88.61\n1                  KNN       0.042           89.12          87.44\n2        Decision Tree       0.044           88.88          88.60\n3                  SVM       8.000           88.78          88.61",
      "text/html": "<div>\n<style scoped>\n    .dataframe tbody tr th:only-of-type {\n        vertical-align: middle;\n    }\n\n    .dataframe tbody tr th {\n        vertical-align: top;\n    }\n\n    .dataframe thead th {\n        text-align: right;\n    }\n</style>\n<table border=\"1\" class=\"dataframe\">\n  <thead>\n    <tr style=\"text-align: right;\">\n      <th></th>\n      <th>Model</th>\n      <th>Train time</th>\n      <th>Train Accuracy</th>\n      <th>Test Accuracy</th>\n    </tr>\n  </thead>\n  <tbody>\n    <tr>\n      <th>0</th>\n      <td>Logistic Regression</td>\n      <td>0.100</td>\n      <td>88.78</td>\n      <td>88.61</td>\n    </tr>\n    <tr>\n      <th>1</th>\n      <td>KNN</td>\n      <td>0.042</td>\n      <td>89.12</td>\n      <td>87.44</td>\n    </tr>\n    <tr>\n      <th>2</th>\n      <td>Decision Tree</td>\n      <td>0.044</td>\n      <td>88.88</td>\n      <td>88.60</td>\n    </tr>\n    <tr>\n      <th>3</th>\n      <td>SVM</td>\n      <td>8.000</td>\n      <td>88.78</td>\n      <td>88.61</td>\n    </tr>\n  </tbody>\n</table>\n</div>"
     },
     "execution_count": 22,
     "metadata": {},
     "output_type": "execute_result"
    }
   ],
   "source": [
    "d = {'Model': ['Logistic Regression', 'KNN', 'Decision Tree', 'SVM'], 'Train time': [0.10,0.042,0.044,8], 'Train Accuracy': [88.78,89.12,88.88,88.78], 'Test Accuracy': [88.61,87.44,88.60,88.61]}\n",
    "model_comparisons = pd.DataFrame(data=d)\n",
    "model_comparisons"
   ]
  },
  {
   "cell_type": "markdown",
   "metadata": {},
   "source": [
    "### Improving the Model\n",
    "\n",
    "Now that we have some basic models on the board, we want to try to improve these.  Below, we list a few things to explore in this pursuit.\n",
    "\n",
    "- More feature engineering and exploration.  For example, should we keep the gender feature?  Why or why not?\n",
    "- Hyperparameter tuning and grid search.  All of our models have additional hyperparameters to tune and explore.  For example the number of neighbors in KNN or the maximum depth of a Decision Tree.  \n",
    "- Adjust your performance metric"
   ]
  },
  {
   "cell_type": "code",
   "execution_count": 23,
   "metadata": {},
   "outputs": [],
   "source": [
    "params = {'max_depth': [2,5,10,20],\n",
    "         'min_samples_split': [5, 10, 25, 50],\n",
    "          'criterion': ['gini', 'entropy'],\n",
    "          'min_samples_leaf': [5, 10, 50, 100]\n",
    "         }"
   ]
  },
  {
   "cell_type": "code",
   "execution_count": 24,
   "metadata": {},
   "outputs": [
    {
     "name": "stdout",
     "output_type": "stream",
     "text": [
      "Fitting 5 folds for each of 128 candidates, totalling 640 fits\n"
     ]
    },
    {
     "data": {
      "text/plain": "GridSearchCV(cv=5, estimator=DecisionTreeClassifier(random_state=42), n_jobs=-1,\n             param_grid={'criterion': ['gini', 'entropy'],\n                         'max_depth': [2, 5, 10, 20],\n                         'min_samples_leaf': [5, 10, 50, 100],\n                         'min_samples_split': [5, 10, 25, 50]},\n             verbose=1)",
      "text/html": "<style>#sk-7f48db81-781f-4aaa-acb2-5b3d7eaa6eab {color: black;background-color: white;}#sk-7f48db81-781f-4aaa-acb2-5b3d7eaa6eab pre{padding: 0;}#sk-7f48db81-781f-4aaa-acb2-5b3d7eaa6eab div.sk-toggleable {background-color: white;}#sk-7f48db81-781f-4aaa-acb2-5b3d7eaa6eab label.sk-toggleable__label {cursor: pointer;display: block;width: 100%;margin-bottom: 0;padding: 0.3em;box-sizing: border-box;text-align: center;}#sk-7f48db81-781f-4aaa-acb2-5b3d7eaa6eab label.sk-toggleable__label-arrow:before {content: \"▸\";float: left;margin-right: 0.25em;color: #696969;}#sk-7f48db81-781f-4aaa-acb2-5b3d7eaa6eab label.sk-toggleable__label-arrow:hover:before {color: black;}#sk-7f48db81-781f-4aaa-acb2-5b3d7eaa6eab div.sk-estimator:hover label.sk-toggleable__label-arrow:before {color: black;}#sk-7f48db81-781f-4aaa-acb2-5b3d7eaa6eab div.sk-toggleable__content {max-height: 0;max-width: 0;overflow: hidden;text-align: left;background-color: #f0f8ff;}#sk-7f48db81-781f-4aaa-acb2-5b3d7eaa6eab div.sk-toggleable__content pre {margin: 0.2em;color: black;border-radius: 0.25em;background-color: #f0f8ff;}#sk-7f48db81-781f-4aaa-acb2-5b3d7eaa6eab input.sk-toggleable__control:checked~div.sk-toggleable__content {max-height: 200px;max-width: 100%;overflow: auto;}#sk-7f48db81-781f-4aaa-acb2-5b3d7eaa6eab input.sk-toggleable__control:checked~label.sk-toggleable__label-arrow:before {content: \"▾\";}#sk-7f48db81-781f-4aaa-acb2-5b3d7eaa6eab div.sk-estimator input.sk-toggleable__control:checked~label.sk-toggleable__label {background-color: #d4ebff;}#sk-7f48db81-781f-4aaa-acb2-5b3d7eaa6eab div.sk-label input.sk-toggleable__control:checked~label.sk-toggleable__label {background-color: #d4ebff;}#sk-7f48db81-781f-4aaa-acb2-5b3d7eaa6eab input.sk-hidden--visually {border: 0;clip: rect(1px 1px 1px 1px);clip: rect(1px, 1px, 1px, 1px);height: 1px;margin: -1px;overflow: hidden;padding: 0;position: absolute;width: 1px;}#sk-7f48db81-781f-4aaa-acb2-5b3d7eaa6eab div.sk-estimator {font-family: monospace;background-color: #f0f8ff;border: 1px dotted black;border-radius: 0.25em;box-sizing: border-box;margin-bottom: 0.5em;}#sk-7f48db81-781f-4aaa-acb2-5b3d7eaa6eab div.sk-estimator:hover {background-color: #d4ebff;}#sk-7f48db81-781f-4aaa-acb2-5b3d7eaa6eab div.sk-parallel-item::after {content: \"\";width: 100%;border-bottom: 1px solid gray;flex-grow: 1;}#sk-7f48db81-781f-4aaa-acb2-5b3d7eaa6eab div.sk-label:hover label.sk-toggleable__label {background-color: #d4ebff;}#sk-7f48db81-781f-4aaa-acb2-5b3d7eaa6eab div.sk-serial::before {content: \"\";position: absolute;border-left: 1px solid gray;box-sizing: border-box;top: 2em;bottom: 0;left: 50%;}#sk-7f48db81-781f-4aaa-acb2-5b3d7eaa6eab div.sk-serial {display: flex;flex-direction: column;align-items: center;background-color: white;padding-right: 0.2em;padding-left: 0.2em;}#sk-7f48db81-781f-4aaa-acb2-5b3d7eaa6eab div.sk-item {z-index: 1;}#sk-7f48db81-781f-4aaa-acb2-5b3d7eaa6eab div.sk-parallel {display: flex;align-items: stretch;justify-content: center;background-color: white;}#sk-7f48db81-781f-4aaa-acb2-5b3d7eaa6eab div.sk-parallel::before {content: \"\";position: absolute;border-left: 1px solid gray;box-sizing: border-box;top: 2em;bottom: 0;left: 50%;}#sk-7f48db81-781f-4aaa-acb2-5b3d7eaa6eab div.sk-parallel-item {display: flex;flex-direction: column;position: relative;background-color: white;}#sk-7f48db81-781f-4aaa-acb2-5b3d7eaa6eab div.sk-parallel-item:first-child::after {align-self: flex-end;width: 50%;}#sk-7f48db81-781f-4aaa-acb2-5b3d7eaa6eab div.sk-parallel-item:last-child::after {align-self: flex-start;width: 50%;}#sk-7f48db81-781f-4aaa-acb2-5b3d7eaa6eab div.sk-parallel-item:only-child::after {width: 0;}#sk-7f48db81-781f-4aaa-acb2-5b3d7eaa6eab div.sk-dashed-wrapped {border: 1px dashed gray;margin: 0 0.4em 0.5em 0.4em;box-sizing: border-box;padding-bottom: 0.4em;background-color: white;position: relative;}#sk-7f48db81-781f-4aaa-acb2-5b3d7eaa6eab div.sk-label label {font-family: monospace;font-weight: bold;background-color: white;display: inline-block;line-height: 1.2em;}#sk-7f48db81-781f-4aaa-acb2-5b3d7eaa6eab div.sk-label-container {position: relative;z-index: 2;text-align: center;}#sk-7f48db81-781f-4aaa-acb2-5b3d7eaa6eab div.sk-container {/* jupyter's `normalize.less` sets `[hidden] { display: none; }` but bootstrap.min.css set `[hidden] { display: none !important; }` so we also need the `!important` here to be able to override the default hidden behavior on the sphinx rendered scikit-learn.org. See: https://github.com/scikit-learn/scikit-learn/issues/21755 */display: inline-block !important;position: relative;}#sk-7f48db81-781f-4aaa-acb2-5b3d7eaa6eab div.sk-text-repr-fallback {display: none;}</style><div id=\"sk-7f48db81-781f-4aaa-acb2-5b3d7eaa6eab\" class=\"sk-top-container\"><div class=\"sk-text-repr-fallback\"><pre>GridSearchCV(cv=5, estimator=DecisionTreeClassifier(random_state=42), n_jobs=-1,\n             param_grid={&#x27;criterion&#x27;: [&#x27;gini&#x27;, &#x27;entropy&#x27;],\n                         &#x27;max_depth&#x27;: [2, 5, 10, 20],\n                         &#x27;min_samples_leaf&#x27;: [5, 10, 50, 100],\n                         &#x27;min_samples_split&#x27;: [5, 10, 25, 50]},\n             verbose=1)</pre><b>Please rerun this cell to show the HTML repr or trust the notebook.</b></div><div class=\"sk-container\" hidden><div class=\"sk-item sk-dashed-wrapped\"><div class=\"sk-label-container\"><div class=\"sk-label sk-toggleable\"><input class=\"sk-toggleable__control sk-hidden--visually\" id=\"6eea1176-5ba4-4829-8117-1fa7f9746e21\" type=\"checkbox\" ><label for=\"6eea1176-5ba4-4829-8117-1fa7f9746e21\" class=\"sk-toggleable__label sk-toggleable__label-arrow\">GridSearchCV</label><div class=\"sk-toggleable__content\"><pre>GridSearchCV(cv=5, estimator=DecisionTreeClassifier(random_state=42), n_jobs=-1,\n             param_grid={&#x27;criterion&#x27;: [&#x27;gini&#x27;, &#x27;entropy&#x27;],\n                         &#x27;max_depth&#x27;: [2, 5, 10, 20],\n                         &#x27;min_samples_leaf&#x27;: [5, 10, 50, 100],\n                         &#x27;min_samples_split&#x27;: [5, 10, 25, 50]},\n             verbose=1)</pre></div></div></div><div class=\"sk-parallel\"><div class=\"sk-parallel-item\"><div class=\"sk-item\"><div class=\"sk-serial\"><div class=\"sk-item\"><div class=\"sk-estimator sk-toggleable\"><input class=\"sk-toggleable__control sk-hidden--visually\" id=\"7ba807ad-ce5d-4055-8f21-fb37422c42c4\" type=\"checkbox\" ><label for=\"7ba807ad-ce5d-4055-8f21-fb37422c42c4\" class=\"sk-toggleable__label sk-toggleable__label-arrow\">DecisionTreeClassifier</label><div class=\"sk-toggleable__content\"><pre>DecisionTreeClassifier(random_state=42)</pre></div></div></div></div></div></div></div></div></div></div>"
     },
     "execution_count": 24,
     "metadata": {},
     "output_type": "execute_result"
    }
   ],
   "source": [
    "from sklearn.model_selection import GridSearchCV\n",
    "dtree_updated = DecisionTreeClassifier(random_state=42)\n",
    "grid = GridSearchCV(dtree_updated, param_grid=params, cv=5, verbose=1, n_jobs=-1)\n",
    "grid.fit(X_train,Y_train)"
   ]
  },
  {
   "cell_type": "code",
   "execution_count": 25,
   "metadata": {},
   "outputs": [
    {
     "name": "stdout",
     "output_type": "stream",
     "text": [
      "{'criterion': 'gini', 'max_depth': 2, 'min_samples_leaf': 100, 'min_samples_split': 5}\n",
      "0.8859907528216956\n"
     ]
    }
   ],
   "source": [
    "print(grid.best_params_)\n",
    "print(grid.best_score_)"
   ]
  },
  {
   "cell_type": "code",
   "execution_count": 27,
   "metadata": {},
   "outputs": [
    {
     "name": "stdout",
     "output_type": "stream",
     "text": [
      "\n",
      "The accuracy score using the Decision Tree Classifier is ->  88.62992635753014\n"
     ]
    }
   ],
   "source": [
    "dtree_updated = DecisionTreeClassifier(max_depth=2, min_samples_split=5, min_samples_leaf=100, random_state=42, criterion='gini').fit(X_train, Y_train)\n",
    "\n",
    "dtree_pred = dtree_updated.predict(X_test)\n",
    "# The accuracy score has increased after improving the Decision Tree model with tuning the hyperparameters.\n",
    "print(\"\\nThe accuracy score using the Decision Tree Classifier is -> \",metrics.accuracy_score(Y_test, dtree_pred) * 100)"
   ]
  },
  {
   "cell_type": "code",
   "execution_count": 28,
   "metadata": {},
   "outputs": [
    {
     "name": "stdout",
     "output_type": "stream",
     "text": [
      "\n",
      "The accuracy score using the KNN (10 neighbors) is ->  88.80796309783928\n"
     ]
    }
   ],
   "source": [
    "## KNN ##\n",
    "knn_pipeline_10_neighbors = Pipeline([('scale', StandardScaler()), ('knn', KNeighborsClassifier(n_neighbors=10))])\n",
    "\n",
    "knn_pipeline_10_neighbors.fit(X_train, Y_train)\n",
    "\n",
    "knn_pred_10_neighbors = knn_pipeline_10_neighbors.predict(X_test)\n",
    "\n",
    "print(\"\\nThe accuracy score using the KNN (10 neighbors) is -> \",metrics.accuracy_score(Y_test, knn_pred_10_neighbors) * 100)\n"
   ]
  },
  {
   "cell_type": "code",
   "execution_count": 29,
   "metadata": {},
   "outputs": [
    {
     "name": "stdout",
     "output_type": "stream",
     "text": [
      "\n",
      "The accuracy score using the KNN (15 neighbors) is ->  88.90507404709881\n"
     ]
    }
   ],
   "source": [
    "## KNN ##\n",
    "knn_pipeline_15_neighbors = Pipeline([('scale', StandardScaler()), ('knn', KNeighborsClassifier(n_neighbors=15))])\n",
    "\n",
    "knn_pipeline_15_neighbors.fit(X_train, Y_train)\n",
    "\n",
    "knn_pred_15_neighbors = knn_pipeline_15_neighbors.predict(X_test)\n",
    "# The accuracy score has increased after improving the KNN model with tuning the hyperparameters.\n",
    "print(\"\\nThe accuracy score using the KNN (15 neighbors) is -> \",metrics.accuracy_score(Y_test, knn_pred_15_neighbors) * 100)"
   ]
  },
  {
   "cell_type": "code",
   "execution_count": null,
   "metadata": {},
   "outputs": [],
   "source": []
  },
  {
   "cell_type": "code",
   "execution_count": null,
   "metadata": {},
   "outputs": [],
   "source": []
  },
  {
   "cell_type": "markdown",
   "metadata": {},
   "source": []
  }
 ],
 "metadata": {
  "kernelspec": {
   "display_name": "Python 3",
   "language": "python",
   "name": "python3"
  },
  "language_info": {
   "codemirror_mode": {
    "name": "ipython",
    "version": 3
   },
   "file_extension": ".py",
   "mimetype": "text/x-python",
   "name": "python",
   "nbconvert_exporter": "python",
   "pygments_lexer": "ipython3",
   "version": "3.8.8"
  },
  "widgets": {
   "application/vnd.jupyter.widget-state+json": {
    "state": {},
    "version_major": 2,
    "version_minor": 0
   }
  }
 },
 "nbformat": 4,
 "nbformat_minor": 4
}