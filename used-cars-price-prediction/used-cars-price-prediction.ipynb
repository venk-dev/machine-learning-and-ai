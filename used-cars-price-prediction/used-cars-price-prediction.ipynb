{
 "cells": [
  {
   "cell_type": "markdown",
   "metadata": {},
   "source": [
    "# What drives the price of a car?\n",
    "\n",
    "![](images/kurt.jpeg)"
   ]
  },
  {
   "cell_type": "markdown",
   "metadata": {},
   "source": [
    "**OVERVIEW**\n",
    "\n",
    "In this application, you will explore a dataset from kaggle. The original dataset contained information on 3 million used cars. The provided dataset contains information on 426K cars to ensure speed of processing.  Your goal is to understand what factors make a car more or less expensive.  As a result of your analysis, you should provide clear recommendations to your client -- a used car dealership -- as to what consumers value in a used car."
   ]
  },
  {
   "cell_type": "markdown",
   "metadata": {},
   "source": [
    "### CRISP-DM Framework\n",
    "\n",
    "<center>\n",
    "    <img src = images/crisp.png width = 50%/>\n",
    "</center>\n",
    "\n",
    "\n",
    "To frame the task, throughout our practical applications we will refer back to a standard process in industry for data projects called CRISP-DM.  This process provides a framework for working through a data problem.  Your first step in this application will be to read through a brief overview of CRISP-DM [here](https://mo-pcco.s3.us-east-1.amazonaws.com/BH-PCMLAI/module_11/readings_starter.zip).  After reading the overview, answer the questions below."
   ]
  },
  {
   "cell_type": "markdown",
   "metadata": {},
   "source": [
    "### Business Understanding\n",
    "\n",
    "From a business perspective, we are tasked with identifying key drivers for used car prices.  In the CRISP-DM overview, we are asked to convert this business framing to a data problem definition.  Using a few sentences, reframe the task as a data task with the appropriate technical vocabulary. "
   ]
  },
  {
   "cell_type": "code",
   "execution_count": 226,
   "metadata": {},
   "outputs": [],
   "source": [
    "#For used cars, the main determinant factors are price with respect to other features. Hence, it is important\n",
    "#to understand the relationship between different features and the target variable which is price of the car.\n",
    "#In order to establish the relationship, different regression models should be used. It is important to determine\n",
    "#important features."
   ]
  },
  {
   "cell_type": "markdown",
   "metadata": {},
   "source": [
    "### Data Understanding\n",
    "\n",
    "After considering the business understanding, we want to get familiar with our data.  Write down some steps that you would take to get to know the dataset and identify any quality issues within.  Take time to get to know the dataset and explore what information it contains and how this could be used to inform your business understanding."
   ]
  },
  {
   "cell_type": "code",
   "execution_count": 227,
   "metadata": {},
   "outputs": [],
   "source": [
    "import pandas as pd\n",
    "import numpy as np\n",
    "import seaborn as sns\n",
    "import matplotlib.pyplot as plt\n",
    "%matplotlib inline\n",
    "\n",
    "from sklearn import preprocessing\n",
    "from sklearn.impute import SimpleImputer\n",
    "from sklearn.linear_model import Ridge\n",
    "\n",
    "import warnings\n",
    "warnings.filterwarnings('ignore')"
   ]
  },
  {
   "cell_type": "code",
   "execution_count": 228,
   "metadata": {},
   "outputs": [
    {
     "data": {
      "text/plain": "Index(['id', 'region', 'price', 'year', 'manufacturer', 'model', 'condition',\n       'cylinders', 'fuel', 'odometer', 'title_status', 'transmission', 'VIN',\n       'drive', 'size', 'type', 'paint_color', 'state'],\n      dtype='object')"
     },
     "execution_count": 228,
     "metadata": {},
     "output_type": "execute_result"
    }
   ],
   "source": [
    "df=pd.read_csv('./data/vehicles.csv')\n",
    "df=pd.DataFrame(df)\n",
    "df.head()\n",
    "df.columns"
   ]
  },
  {
   "cell_type": "code",
   "execution_count": 229,
   "metadata": {},
   "outputs": [
    {
     "data": {
      "text/plain": "           id                  region  price  year manufacturer model  \\\n0  7222695916                prescott   6000   NaN          NaN   NaN   \n1  7218891961            fayetteville  11900   NaN          NaN   NaN   \n2  7221797935            florida keys  21000   NaN          NaN   NaN   \n3  7222270760  worcester / central MA   1500   NaN          NaN   NaN   \n4  7210384030              greensboro   4900   NaN          NaN   NaN   \n\n  condition cylinders fuel  odometer title_status transmission drive size  \\\n0       NaN       NaN  NaN       NaN          NaN          NaN   NaN  NaN   \n1       NaN       NaN  NaN       NaN          NaN          NaN   NaN  NaN   \n2       NaN       NaN  NaN       NaN          NaN          NaN   NaN  NaN   \n3       NaN       NaN  NaN       NaN          NaN          NaN   NaN  NaN   \n4       NaN       NaN  NaN       NaN          NaN          NaN   NaN  NaN   \n\n  type paint_color  \n0  NaN         NaN  \n1  NaN         NaN  \n2  NaN         NaN  \n3  NaN         NaN  \n4  NaN         NaN  ",
      "text/html": "<div>\n<style scoped>\n    .dataframe tbody tr th:only-of-type {\n        vertical-align: middle;\n    }\n\n    .dataframe tbody tr th {\n        vertical-align: top;\n    }\n\n    .dataframe thead th {\n        text-align: right;\n    }\n</style>\n<table border=\"1\" class=\"dataframe\">\n  <thead>\n    <tr style=\"text-align: right;\">\n      <th></th>\n      <th>id</th>\n      <th>region</th>\n      <th>price</th>\n      <th>year</th>\n      <th>manufacturer</th>\n      <th>model</th>\n      <th>condition</th>\n      <th>cylinders</th>\n      <th>fuel</th>\n      <th>odometer</th>\n      <th>title_status</th>\n      <th>transmission</th>\n      <th>drive</th>\n      <th>size</th>\n      <th>type</th>\n      <th>paint_color</th>\n    </tr>\n  </thead>\n  <tbody>\n    <tr>\n      <th>0</th>\n      <td>7222695916</td>\n      <td>prescott</td>\n      <td>6000</td>\n      <td>NaN</td>\n      <td>NaN</td>\n      <td>NaN</td>\n      <td>NaN</td>\n      <td>NaN</td>\n      <td>NaN</td>\n      <td>NaN</td>\n      <td>NaN</td>\n      <td>NaN</td>\n      <td>NaN</td>\n      <td>NaN</td>\n      <td>NaN</td>\n      <td>NaN</td>\n    </tr>\n    <tr>\n      <th>1</th>\n      <td>7218891961</td>\n      <td>fayetteville</td>\n      <td>11900</td>\n      <td>NaN</td>\n      <td>NaN</td>\n      <td>NaN</td>\n      <td>NaN</td>\n      <td>NaN</td>\n      <td>NaN</td>\n      <td>NaN</td>\n      <td>NaN</td>\n      <td>NaN</td>\n      <td>NaN</td>\n      <td>NaN</td>\n      <td>NaN</td>\n      <td>NaN</td>\n    </tr>\n    <tr>\n      <th>2</th>\n      <td>7221797935</td>\n      <td>florida keys</td>\n      <td>21000</td>\n      <td>NaN</td>\n      <td>NaN</td>\n      <td>NaN</td>\n      <td>NaN</td>\n      <td>NaN</td>\n      <td>NaN</td>\n      <td>NaN</td>\n      <td>NaN</td>\n      <td>NaN</td>\n      <td>NaN</td>\n      <td>NaN</td>\n      <td>NaN</td>\n      <td>NaN</td>\n    </tr>\n    <tr>\n      <th>3</th>\n      <td>7222270760</td>\n      <td>worcester / central MA</td>\n      <td>1500</td>\n      <td>NaN</td>\n      <td>NaN</td>\n      <td>NaN</td>\n      <td>NaN</td>\n      <td>NaN</td>\n      <td>NaN</td>\n      <td>NaN</td>\n      <td>NaN</td>\n      <td>NaN</td>\n      <td>NaN</td>\n      <td>NaN</td>\n      <td>NaN</td>\n      <td>NaN</td>\n    </tr>\n    <tr>\n      <th>4</th>\n      <td>7210384030</td>\n      <td>greensboro</td>\n      <td>4900</td>\n      <td>NaN</td>\n      <td>NaN</td>\n      <td>NaN</td>\n      <td>NaN</td>\n      <td>NaN</td>\n      <td>NaN</td>\n      <td>NaN</td>\n      <td>NaN</td>\n      <td>NaN</td>\n      <td>NaN</td>\n      <td>NaN</td>\n      <td>NaN</td>\n      <td>NaN</td>\n    </tr>\n  </tbody>\n</table>\n</div>"
     },
     "execution_count": 229,
     "metadata": {},
     "output_type": "execute_result"
    }
   ],
   "source": [
    "cars=df.copy()\n",
    "#Removing non-important columns.\n",
    "cars=cars.drop(columns=['VIN','state'])\n",
    "cars.head()"
   ]
  },
  {
   "cell_type": "code",
   "execution_count": 235,
   "outputs": [
    {
     "name": "stdout",
     "output_type": "stream",
     "text": [
      "<class 'pandas.core.frame.DataFrame'>\n",
      "RangeIndex: 426880 entries, 0 to 426879\n",
      "Data columns (total 16 columns):\n",
      " #   Column        Non-Null Count   Dtype  \n",
      "---  ------        --------------   -----  \n",
      " 0   id            426880 non-null  int64  \n",
      " 1   region        426880 non-null  object \n",
      " 2   price         426880 non-null  int64  \n",
      " 3   year          425675 non-null  float64\n",
      " 4   manufacturer  409234 non-null  object \n",
      " 5   model         421603 non-null  object \n",
      " 6   condition     252776 non-null  object \n",
      " 7   cylinders     249202 non-null  object \n",
      " 8   fuel          423867 non-null  object \n",
      " 9   odometer      422480 non-null  float64\n",
      " 10  title_status  418638 non-null  object \n",
      " 11  transmission  424324 non-null  object \n",
      " 12  drive         296313 non-null  object \n",
      " 13  size          120519 non-null  object \n",
      " 14  type          334022 non-null  object \n",
      " 15  paint_color   296677 non-null  object \n",
      "dtypes: float64(2), int64(2), object(12)\n",
      "memory usage: 52.1+ MB\n"
     ]
    }
   ],
   "source": [
    "cars.info()"
   ],
   "metadata": {
    "collapsed": false,
    "pycharm": {
     "name": "#%%\n"
    }
   }
  },
  {
   "cell_type": "code",
   "execution_count": 237,
   "outputs": [],
   "source": [
    "#cars.isnull().sum()"
   ],
   "metadata": {
    "collapsed": false,
    "pycharm": {
     "name": "#%%\n"
    }
   }
  },
  {
   "cell_type": "markdown",
   "metadata": {},
   "source": [
    "### Data Preparation\n",
    "\n",
    "After our initial exploration and fine tuning of the business understanding, it is time to construct our final dataset prior to modeling.  Here, we want to make sure to handle any integrity issues and cleaning, the engineering of new features, any transformations that we believe should happen (scaling, logarithms, normalization, etc.), and general preparation for modeling with `sklearn`. "
   ]
  },
  {
   "cell_type": "code",
   "execution_count": 238,
   "metadata": {},
   "outputs": [],
   "source": [
    "num_col=['year','odometer']\n",
    "cat_cols=['region','manufacturer','model','condition','cylinders','fuel','title_status','transmission','drive','size','type','paint_color']"
   ]
  },
  {
   "cell_type": "code",
   "execution_count": 239,
   "metadata": {},
   "outputs": [],
   "source": [
    "#Converting categorical columns into numerical columns.\n",
    "le=preprocessing.LabelEncoder()\n",
    "cars[cat_cols]=cars[cat_cols].apply(le.fit_transform)"
   ]
  },
  {
   "cell_type": "code",
   "execution_count": 240,
   "outputs": [
    {
     "data": {
      "text/plain": "   region  price  year  manufacturer  model  condition  cylinders  fuel  \\\n0     277   6000   NaN            42  29649          6          8     5   \n1     105  11900   NaN            42  29649          6          8     5   \n\n   odometer  title_status  transmission  drive  size  type  paint_color  \n0       NaN             6             3      3     4    13           12  \n1       NaN             6             3      3     4    13           12  ",
      "text/html": "<div>\n<style scoped>\n    .dataframe tbody tr th:only-of-type {\n        vertical-align: middle;\n    }\n\n    .dataframe tbody tr th {\n        vertical-align: top;\n    }\n\n    .dataframe thead th {\n        text-align: right;\n    }\n</style>\n<table border=\"1\" class=\"dataframe\">\n  <thead>\n    <tr style=\"text-align: right;\">\n      <th></th>\n      <th>region</th>\n      <th>price</th>\n      <th>year</th>\n      <th>manufacturer</th>\n      <th>model</th>\n      <th>condition</th>\n      <th>cylinders</th>\n      <th>fuel</th>\n      <th>odometer</th>\n      <th>title_status</th>\n      <th>transmission</th>\n      <th>drive</th>\n      <th>size</th>\n      <th>type</th>\n      <th>paint_color</th>\n    </tr>\n  </thead>\n  <tbody>\n    <tr>\n      <th>0</th>\n      <td>277</td>\n      <td>6000</td>\n      <td>NaN</td>\n      <td>42</td>\n      <td>29649</td>\n      <td>6</td>\n      <td>8</td>\n      <td>5</td>\n      <td>NaN</td>\n      <td>6</td>\n      <td>3</td>\n      <td>3</td>\n      <td>4</td>\n      <td>13</td>\n      <td>12</td>\n    </tr>\n    <tr>\n      <th>1</th>\n      <td>105</td>\n      <td>11900</td>\n      <td>NaN</td>\n      <td>42</td>\n      <td>29649</td>\n      <td>6</td>\n      <td>8</td>\n      <td>5</td>\n      <td>NaN</td>\n      <td>6</td>\n      <td>3</td>\n      <td>3</td>\n      <td>4</td>\n      <td>13</td>\n      <td>12</td>\n    </tr>\n  </tbody>\n</table>\n</div>"
     },
     "execution_count": 240,
     "metadata": {},
     "output_type": "execute_result"
    }
   ],
   "source": [
    "cars = cars.drop('id', axis = 1)\n",
    "cars.head(2)\n"
   ],
   "metadata": {
    "collapsed": false,
    "pycharm": {
     "name": "#%%\n"
    }
   }
  },
  {
   "cell_type": "code",
   "execution_count": 241,
   "metadata": {},
   "outputs": [
    {
     "data": {
      "text/plain": "   region    price    year  manufacturer    model  condition  cylinders  fuel  \\\n0   277.0   6000.0  2013.0          42.0  29649.0        6.0        8.0   5.0   \n1   105.0  11900.0  2013.0          42.0  29649.0        6.0        8.0   5.0   \n2   111.0  21000.0  2013.0          42.0  29649.0        6.0        8.0   5.0   \n3   396.0   1500.0  2013.0          42.0  29649.0        6.0        8.0   5.0   \n4   131.0   4900.0  2013.0          42.0  29649.0        6.0        8.0   5.0   \n\n   odometer  title_status  transmission  drive  size  type  paint_color  \n0   85548.0           6.0           3.0    3.0   4.0  13.0         12.0  \n1   85548.0           6.0           3.0    3.0   4.0  13.0         12.0  \n2   85548.0           6.0           3.0    3.0   4.0  13.0         12.0  \n3   85548.0           6.0           3.0    3.0   4.0  13.0         12.0  \n4   85548.0           6.0           3.0    3.0   4.0  13.0         12.0  ",
      "text/html": "<div>\n<style scoped>\n    .dataframe tbody tr th:only-of-type {\n        vertical-align: middle;\n    }\n\n    .dataframe tbody tr th {\n        vertical-align: top;\n    }\n\n    .dataframe thead th {\n        text-align: right;\n    }\n</style>\n<table border=\"1\" class=\"dataframe\">\n  <thead>\n    <tr style=\"text-align: right;\">\n      <th></th>\n      <th>region</th>\n      <th>price</th>\n      <th>year</th>\n      <th>manufacturer</th>\n      <th>model</th>\n      <th>condition</th>\n      <th>cylinders</th>\n      <th>fuel</th>\n      <th>odometer</th>\n      <th>title_status</th>\n      <th>transmission</th>\n      <th>drive</th>\n      <th>size</th>\n      <th>type</th>\n      <th>paint_color</th>\n    </tr>\n  </thead>\n  <tbody>\n    <tr>\n      <th>0</th>\n      <td>277.0</td>\n      <td>6000.0</td>\n      <td>2013.0</td>\n      <td>42.0</td>\n      <td>29649.0</td>\n      <td>6.0</td>\n      <td>8.0</td>\n      <td>5.0</td>\n      <td>85548.0</td>\n      <td>6.0</td>\n      <td>3.0</td>\n      <td>3.0</td>\n      <td>4.0</td>\n      <td>13.0</td>\n      <td>12.0</td>\n    </tr>\n    <tr>\n      <th>1</th>\n      <td>105.0</td>\n      <td>11900.0</td>\n      <td>2013.0</td>\n      <td>42.0</td>\n      <td>29649.0</td>\n      <td>6.0</td>\n      <td>8.0</td>\n      <td>5.0</td>\n      <td>85548.0</td>\n      <td>6.0</td>\n      <td>3.0</td>\n      <td>3.0</td>\n      <td>4.0</td>\n      <td>13.0</td>\n      <td>12.0</td>\n    </tr>\n    <tr>\n      <th>2</th>\n      <td>111.0</td>\n      <td>21000.0</td>\n      <td>2013.0</td>\n      <td>42.0</td>\n      <td>29649.0</td>\n      <td>6.0</td>\n      <td>8.0</td>\n      <td>5.0</td>\n      <td>85548.0</td>\n      <td>6.0</td>\n      <td>3.0</td>\n      <td>3.0</td>\n      <td>4.0</td>\n      <td>13.0</td>\n      <td>12.0</td>\n    </tr>\n    <tr>\n      <th>3</th>\n      <td>396.0</td>\n      <td>1500.0</td>\n      <td>2013.0</td>\n      <td>42.0</td>\n      <td>29649.0</td>\n      <td>6.0</td>\n      <td>8.0</td>\n      <td>5.0</td>\n      <td>85548.0</td>\n      <td>6.0</td>\n      <td>3.0</td>\n      <td>3.0</td>\n      <td>4.0</td>\n      <td>13.0</td>\n      <td>12.0</td>\n    </tr>\n    <tr>\n      <th>4</th>\n      <td>131.0</td>\n      <td>4900.0</td>\n      <td>2013.0</td>\n      <td>42.0</td>\n      <td>29649.0</td>\n      <td>6.0</td>\n      <td>8.0</td>\n      <td>5.0</td>\n      <td>85548.0</td>\n      <td>6.0</td>\n      <td>3.0</td>\n      <td>3.0</td>\n      <td>4.0</td>\n      <td>13.0</td>\n      <td>12.0</td>\n    </tr>\n  </tbody>\n</table>\n</div>"
     },
     "execution_count": 241,
     "metadata": {},
     "output_type": "execute_result"
    }
   ],
   "source": [
    "#Replacing missing values with mean value.\n",
    "fill_NaN = SimpleImputer(missing_values=np.nan, strategy='median')\n",
    "cars_updated = pd.DataFrame(fill_NaN.fit_transform(cars))\n",
    "cars_updated.columns = cars.columns\n",
    "cars_updated.index = cars.index\n",
    "cars_updated.head()"
   ]
  },
  {
   "cell_type": "code",
   "execution_count": 242,
   "metadata": {},
   "outputs": [
    {
     "data": {
      "text/plain": "     region     price      year  manufacturer     model  condition  cylinders  \\\n0  0.705178  8.699515  0.186438          42.0  1.608397        6.0        8.0   \n1 -0.751436  9.384294  0.186438          42.0  1.608397        6.0        8.0   \n2 -0.700624  9.952278  0.186438          42.0  1.608397        6.0        8.0   \n3  1.712953  7.313220  0.186438          42.0  1.608397        6.0        8.0   \n4 -0.531250  8.496990  0.186438          42.0  1.608397        6.0        8.0   \n\n   fuel  odometer  title_status  transmission  drive  size  type  paint_color  \n0   5.0 -0.058119           6.0           3.0    3.0   4.0  13.0         12.0  \n1   5.0 -0.058119           6.0           3.0    3.0   4.0  13.0         12.0  \n2   5.0 -0.058119           6.0           3.0    3.0   4.0  13.0         12.0  \n3   5.0 -0.058119           6.0           3.0    3.0   4.0  13.0         12.0  \n4   5.0 -0.058119           6.0           3.0    3.0   4.0  13.0         12.0  ",
      "text/html": "<div>\n<style scoped>\n    .dataframe tbody tr th:only-of-type {\n        vertical-align: middle;\n    }\n\n    .dataframe tbody tr th {\n        vertical-align: top;\n    }\n\n    .dataframe thead th {\n        text-align: right;\n    }\n</style>\n<table border=\"1\" class=\"dataframe\">\n  <thead>\n    <tr style=\"text-align: right;\">\n      <th></th>\n      <th>region</th>\n      <th>price</th>\n      <th>year</th>\n      <th>manufacturer</th>\n      <th>model</th>\n      <th>condition</th>\n      <th>cylinders</th>\n      <th>fuel</th>\n      <th>odometer</th>\n      <th>title_status</th>\n      <th>transmission</th>\n      <th>drive</th>\n      <th>size</th>\n      <th>type</th>\n      <th>paint_color</th>\n    </tr>\n  </thead>\n  <tbody>\n    <tr>\n      <th>0</th>\n      <td>0.705178</td>\n      <td>8.699515</td>\n      <td>0.186438</td>\n      <td>42.0</td>\n      <td>1.608397</td>\n      <td>6.0</td>\n      <td>8.0</td>\n      <td>5.0</td>\n      <td>-0.058119</td>\n      <td>6.0</td>\n      <td>3.0</td>\n      <td>3.0</td>\n      <td>4.0</td>\n      <td>13.0</td>\n      <td>12.0</td>\n    </tr>\n    <tr>\n      <th>1</th>\n      <td>-0.751436</td>\n      <td>9.384294</td>\n      <td>0.186438</td>\n      <td>42.0</td>\n      <td>1.608397</td>\n      <td>6.0</td>\n      <td>8.0</td>\n      <td>5.0</td>\n      <td>-0.058119</td>\n      <td>6.0</td>\n      <td>3.0</td>\n      <td>3.0</td>\n      <td>4.0</td>\n      <td>13.0</td>\n      <td>12.0</td>\n    </tr>\n    <tr>\n      <th>2</th>\n      <td>-0.700624</td>\n      <td>9.952278</td>\n      <td>0.186438</td>\n      <td>42.0</td>\n      <td>1.608397</td>\n      <td>6.0</td>\n      <td>8.0</td>\n      <td>5.0</td>\n      <td>-0.058119</td>\n      <td>6.0</td>\n      <td>3.0</td>\n      <td>3.0</td>\n      <td>4.0</td>\n      <td>13.0</td>\n      <td>12.0</td>\n    </tr>\n    <tr>\n      <th>3</th>\n      <td>1.712953</td>\n      <td>7.313220</td>\n      <td>0.186438</td>\n      <td>42.0</td>\n      <td>1.608397</td>\n      <td>6.0</td>\n      <td>8.0</td>\n      <td>5.0</td>\n      <td>-0.058119</td>\n      <td>6.0</td>\n      <td>3.0</td>\n      <td>3.0</td>\n      <td>4.0</td>\n      <td>13.0</td>\n      <td>12.0</td>\n    </tr>\n    <tr>\n      <th>4</th>\n      <td>-0.531250</td>\n      <td>8.496990</td>\n      <td>0.186438</td>\n      <td>42.0</td>\n      <td>1.608397</td>\n      <td>6.0</td>\n      <td>8.0</td>\n      <td>5.0</td>\n      <td>-0.058119</td>\n      <td>6.0</td>\n      <td>3.0</td>\n      <td>3.0</td>\n      <td>4.0</td>\n      <td>13.0</td>\n      <td>12.0</td>\n    </tr>\n  </tbody>\n</table>\n</div>"
     },
     "execution_count": 242,
     "metadata": {},
     "output_type": "execute_result"
    }
   ],
   "source": [
    "from sklearn.preprocessing import StandardScaler\n",
    "\n",
    "#scaling numerical data\n",
    "norm = StandardScaler()\n",
    "cars_updated['price'] = np.log(cars_updated['price'])\n",
    "cars_updated['odometer'] = norm.fit_transform(np.array(cars_updated['odometer']).reshape(-1,1))\n",
    "cars_updated['year'] = norm.fit_transform(np.array(cars_updated['year']).reshape(-1,1))\n",
    "cars_updated['model'] = norm.fit_transform(np.array(cars_updated['model']).reshape(-1,1))\n",
    "\n",
    "#scaling target variable\n",
    "q1,q3=(cars_updated['price'].quantile([0.25,0.75]))\n",
    "o1=q1-1.5*(q3-q1)\n",
    "o2=q3+1.5*(q3-q1)\n",
    "cars_updated=cars_updated[(cars_updated.price>=o1) & (cars_updated.price<=o2)]\n",
    "\n",
    "cars_updated['region'] = norm.fit_transform(np.array(cars_updated['region']).reshape(-1,1))\n",
    "\n",
    "cars_updated.head()"
   ]
  },
  {
   "cell_type": "code",
   "execution_count": 243,
   "outputs": [],
   "source": [
    "\n",
    "def result(y_test,y_pred):\n",
    "    r=[]\n",
    "    r.append(mean_squared_log_error(y_test, y_pred))\n",
    "    r.append(np.sqrt(r[0]))\n",
    "    r.append(r2_score(y_test,y_pred))\n",
    "    r.append(round(r2_score(y_test,y_pred)*100,4))\n",
    "    return (r)"
   ],
   "metadata": {
    "collapsed": false,
    "pycharm": {
     "name": "#%%\n"
    }
   }
  },
  {
   "cell_type": "markdown",
   "metadata": {},
   "source": [
    "### Modeling & Evaluation\n",
    "\n",
    "With your (almost?) final dataset in hand, it is now time to build some models.  Here, you should build a number of different regression models with the price as the target.  In building your models, you should explore different parameters and be sure to cross-validate your findings."
   ]
  },
  {
   "cell_type": "code",
   "execution_count": 245,
   "outputs": [],
   "source": [
    "from sklearn.model_selection import train_test_split\n",
    "\n",
    "X = cars_updated.drop('price',axis=1)\n",
    "y = cars_updated['price']\n",
    "\n",
    "X_train, X_test, y_train, y_test = train_test_split(X, y, train_size=0.9, test_size=0.1)\n",
    "#dataframe that store the performance of each model\n",
    "accu=pd.DataFrame(index=['MSLE', 'Root MSLE', 'R2 Score','Accuracy(%)'])"
   ],
   "metadata": {
    "collapsed": false,
    "pycharm": {
     "name": "#%%\n"
    }
   }
  },
  {
   "cell_type": "code",
   "execution_count": 246,
   "outputs": [
    {
     "name": "stdout",
     "output_type": "stream",
     "text": [
      "Coefficients: \n",
      " [-0.00253142  0.28436556 -0.0024319  -0.00649198  0.01912526  0.07480321\n",
      " -0.13264599 -0.12557938 -0.03626514  0.24573655 -0.0890819   0.03886563\n",
      " -0.01001074 -0.00374225]\n",
      "MSLE : 0.005501839416983788\n",
      "Root MSLE : 0.07417438518102991\n",
      "R2 Score : 0.2873380657957181 or 28.7338%\n"
     ]
    }
   ],
   "source": [
    "from sklearn.linear_model import LinearRegression\n",
    "from sklearn.metrics import mean_squared_log_error, r2_score\n",
    "\n",
    "#fitting model\n",
    "LR=LinearRegression()\n",
    "LR.fit(X_train,y_train)\n",
    "y_pred=LR.predict(X_test)\n",
    "\n",
    "#calculating error/accuracy\n",
    "y_test_1,y_pred_1=y_test,y_pred\n",
    "r1_lr=result(y_test_1,y_pred_1)\n",
    "print('Coefficients: \\n', LR.coef_)\n",
    "print(\"MSLE : {}\".format(r1_lr[0]))\n",
    "print(\"Root MSLE : {}\".format(r1_lr[1]))\n",
    "print(\"R2 Score : {} or {}%\".format(r1_lr[2],r1_lr[3]))\n",
    "accu['Linear Regression']=r1_lr"
   ],
   "metadata": {
    "collapsed": false,
    "pycharm": {
     "name": "#%%\n"
    }
   }
  },
  {
   "cell_type": "code",
   "execution_count": 247,
   "metadata": {},
   "outputs": [
    {
     "data": {
      "text/plain": "<Figure size 432x432 with 1 Axes>",
      "image/png": "[encoded data removed]"
     },
     "metadata": {
      "needs_background": "light"
     },
     "output_type": "display_data"
    }
   ],
   "source": [
    "import matplotlib\n",
    "\n",
    "#Ploting feature importance graph\n",
    "\n",
    "coef = pd.Series(LR.coef_, index = X_train.columns)\n",
    "imp_coef = coef.sort_values()\n",
    "matplotlib.rcParams['figure.figsize'] = (6.0, 6.0)\n",
    "imp_coef.plot(kind = \"barh\")\n",
    "plt.title(\"Feature importance using Linear Regression Model\")\n",
    "plt.savefig('Linear-Regression-Feature-Importance.jpg')\n",
    "plt.show()"
   ]
  },
  {
   "cell_type": "code",
   "execution_count": 248,
   "metadata": {},
   "outputs": [
    {
     "data": {
      "text/plain": "<Figure size 720x360 with 1 Axes>",
      "image/png": "[encoded data removed]"
     },
     "metadata": {
      "needs_background": "light"
     },
     "output_type": "display_data"
    }
   ],
   "source": [
    "#Visualization of true value and predicted\n",
    "\n",
    "df_check = pd.DataFrame({'Actual': y_test_1, 'Predicted': y_pred_1})\n",
    "df_check = df_check.sample(20)\n",
    "df_check.plot(kind='bar',figsize=(10,5))\n",
    "plt.grid(which='major', linestyle='-', linewidth='0.1', color='Green')\n",
    "plt.title('Performance of Linear Regression')\n",
    "plt.savefig('Linear-Regression-Performance')\n",
    "plt.show()"
   ]
  },
  {
   "cell_type": "code",
   "execution_count": 249,
   "metadata": {},
   "outputs": [
    {
     "name": "stdout",
     "output_type": "stream",
     "text": [
      "MSLE : 0.005501837848881795\n",
      "Root MSLE : 0.0741743746106551\n",
      "R2 Score : 0.28733805903057696 or 28.7338%\n"
     ]
    }
   ],
   "source": [
    "#model object and fitting model\n",
    "RR=Ridge(solver='auto')\n",
    "RR.fit(X_train,y_train)\n",
    "y_pred_2=RR.predict(X_test)\n",
    "\n",
    "y_test_2=y_test\n",
    "r2_ridge=result(y_test_2,y_pred_2)\n",
    "print(\"MSLE : {}\".format(r2_ridge[0]))\n",
    "print(\"Root MSLE : {}\".format(r2_ridge[1]))\n",
    "print(\"R2 Score : {} or {}%\".format(r2_ridge[2],r2_ridge[3]))\n",
    "accu['Ridge Regression']=r2_ridge"
   ]
  },
  {
   "cell_type": "code",
   "execution_count": 250,
   "outputs": [],
   "source": [
    "from sklearn.linear_model import Lasso\n",
    "\n",
    "#model object and fitting it\n",
    "lasso=Lasso(alpha=0.001)\n",
    "lasso.fit(X_train,y_train)\n",
    "y_pred=lasso.predict(X_test)"
   ],
   "metadata": {
    "collapsed": false,
    "pycharm": {
     "name": "#%%\n"
    }
   }
  },
  {
   "cell_type": "code",
   "execution_count": 251,
   "outputs": [
    {
     "name": "stdout",
     "output_type": "stream",
     "text": [
      "MSLE : 0.005497829116587941\n",
      "Root MSLE : 0.07414734733345449\n",
      "R2 Score : 0.2872640436446854 or 28.7264%\n"
     ]
    }
   ],
   "source": [
    "y_test_3,y_pred_3=y_test,y_pred\n",
    "r3_lasso=result(y_test_3,y_pred_3)\n",
    "print(\"MSLE : {}\".format(r3_lasso[0]))\n",
    "print(\"Root MSLE : {}\".format(r3_lasso[1]))\n",
    "print(\"R2 Score : {} or {}%\".format(r3_lasso[2],r3_lasso[3]))\n",
    "accu['Lasso Regression']=r3_lasso"
   ],
   "metadata": {
    "collapsed": false,
    "pycharm": {
     "name": "#%%\n"
    }
   }
  },
  {
   "cell_type": "markdown",
   "metadata": {},
   "source": [
    "### Deployment\n",
    "\n",
    "Now that we've settled on our models and findings, it is time to deliver the information to the client.  You should organize your work as a basic report that details your primary findings.  Keep in mind that your audience is a group of used car dealers interested in fine tuning their inventory."
   ]
  },
  {
   "cell_type": "code",
   "execution_count": null,
   "metadata": {
    "pycharm": {
     "name": "#%%\n"
    }
   },
   "outputs": [],
   "source": [
    "## Important Features to select the used car with respect to price are as below.\n",
    "# Year\n",
    "# Transmission\n",
    "# Cylinder\n",
    "# Drive\n",
    "# Odometer\n",
    "# Fuel"
   ]
  }
 ],
 "metadata": {
  "kernelspec": {
   "display_name": "Python 3",
   "language": "python",
   "name": "python3"
  },
  "language_info": {
   "codemirror_mode": {
    "name": "ipython",
    "version": 3
   },
   "file_extension": ".py",
   "mimetype": "text/x-python",
   "name": "python",
   "nbconvert_exporter": "python",
   "pygments_lexer": "ipython3",
   "version": "3.8.8"
  },
  "widgets": {
   "application/vnd.jupyter.widget-state+json": {
    "state": {},
    "version_major": 2,
    "version_minor": 0
   }
  }
 },
 "nbformat": 4,
 "nbformat_minor": 4
}